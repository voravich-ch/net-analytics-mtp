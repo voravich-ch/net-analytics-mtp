{
 "cells": [
  {
   "cell_type": "markdown",
   "metadata": {},
   "source": [
    "# Import relevant libraries"
   ]
  },
  {
   "cell_type": "code",
   "execution_count": 1,
   "metadata": {
    "ExecuteTime": {
     "end_time": "2020-10-31T19:44:03.313187Z",
     "start_time": "2020-10-31T19:44:02.960574Z"
    }
   },
   "outputs": [],
   "source": [
    "import os\n",
    "import glob\n",
    "import json\n",
    "import numpy as np\n",
    "import pandas as pd"
   ]
  },
  {
   "cell_type": "markdown",
   "metadata": {},
   "source": [
    "# Load data"
   ]
  },
  {
   "cell_type": "code",
   "execution_count": 2,
   "metadata": {
    "ExecuteTime": {
     "end_time": "2020-10-31T19:44:03.333715Z",
     "start_time": "2020-10-31T19:44:03.315993Z"
    }
   },
   "outputs": [
    {
     "data": {
      "text/plain": [
       "['../datasets/starwars-episode-1-interactions.json',\n",
       " '../datasets/starwars-episode-2-interactions.json',\n",
       " '../datasets/starwars-episode-3-interactions.json',\n",
       " '../datasets/starwars-episode-4-interactions.json',\n",
       " '../datasets/starwars-episode-5-interactions.json',\n",
       " '../datasets/starwars-episode-6-interactions.json',\n",
       " '../datasets/starwars-episode-7-interactions.json',\n",
       " '../datasets/starwars-full-interactions.json']"
      ]
     },
     "execution_count": 2,
     "metadata": {},
     "output_type": "execute_result"
    }
   ],
   "source": [
    "# setup data path\n",
    "base_path = os.path.join('..', 'datasets')\n",
    "files_path = glob.glob(os.path.join(base_path, '*.json'))\n",
    "files_path"
   ]
  },
  {
   "cell_type": "code",
   "execution_count": 3,
   "metadata": {
    "ExecuteTime": {
     "end_time": "2020-10-31T19:44:03.374780Z",
     "start_time": "2020-10-31T19:44:03.335848Z"
    }
   },
   "outputs": [
    {
     "name": "stdout",
     "output_type": "stream",
     "text": [
      "A variable `ep_1` was created!\n",
      "A variable `ep_2` was created!\n",
      "A variable `ep_3` was created!\n",
      "A variable `ep_4` was created!\n",
      "A variable `ep_5` was created!\n",
      "A variable `ep_6` was created!\n",
      "A variable `ep_7` was created!\n",
      "A variable `base` was created!\n"
     ]
    }
   ],
   "source": [
    "# load files by episode excluding the full-interactions file\n",
    "for i in range(len(files_path) - 1):\n",
    "    with open(files_path[i]) as json_file:\n",
    "        var_name = '_'.join(['ep', str(i+1)])\n",
    "        vars()[var_name] = json.load(json_file)\n",
    "        print('A variable `{}` was created!'.format(var_name))\n",
    "\n",
    "# load full interaction file to get all characters info\n",
    "with open(files_path[-1]) as json_file:\n",
    "    base = json.load(json_file)\n",
    "    print('A variable `base` was created!')"
   ]
  },
  {
   "cell_type": "markdown",
   "metadata": {},
   "source": [
    "# Create summary table"
   ]
  },
  {
   "cell_type": "code",
   "execution_count": 4,
   "metadata": {
    "ExecuteTime": {
     "end_time": "2020-10-31T19:44:03.425048Z",
     "start_time": "2020-10-31T19:44:03.376330Z"
    }
   },
   "outputs": [
    {
     "data": {
      "text/html": [
       "<div>\n",
       "<style scoped>\n",
       "    .dataframe tbody tr th:only-of-type {\n",
       "        vertical-align: middle;\n",
       "    }\n",
       "\n",
       "    .dataframe tbody tr th {\n",
       "        vertical-align: top;\n",
       "    }\n",
       "\n",
       "    .dataframe thead th {\n",
       "        text-align: right;\n",
       "    }\n",
       "</style>\n",
       "<table border=\"1\" class=\"dataframe\">\n",
       "  <thead>\n",
       "    <tr style=\"text-align: right;\">\n",
       "      <th></th>\n",
       "      <th>name</th>\n",
       "    </tr>\n",
       "  </thead>\n",
       "  <tbody>\n",
       "    <tr>\n",
       "      <th>0</th>\n",
       "      <td>QUI-GON</td>\n",
       "    </tr>\n",
       "    <tr>\n",
       "      <th>1</th>\n",
       "      <td>NUTE GUNRAY</td>\n",
       "    </tr>\n",
       "    <tr>\n",
       "      <th>2</th>\n",
       "      <td>PK-4</td>\n",
       "    </tr>\n",
       "    <tr>\n",
       "      <th>3</th>\n",
       "      <td>TC-14</td>\n",
       "    </tr>\n",
       "    <tr>\n",
       "      <th>4</th>\n",
       "      <td>OBI-WAN</td>\n",
       "    </tr>\n",
       "    <tr>\n",
       "      <th>...</th>\n",
       "      <td>...</td>\n",
       "    </tr>\n",
       "    <tr>\n",
       "      <th>105</th>\n",
       "      <td>YOLO ZIFF</td>\n",
       "    </tr>\n",
       "    <tr>\n",
       "      <th>106</th>\n",
       "      <td>COLONEL DATOO</td>\n",
       "    </tr>\n",
       "    <tr>\n",
       "      <th>107</th>\n",
       "      <td>ELLO ASTY</td>\n",
       "    </tr>\n",
       "    <tr>\n",
       "      <th>108</th>\n",
       "      <td>JESS</td>\n",
       "    </tr>\n",
       "    <tr>\n",
       "      <th>109</th>\n",
       "      <td>NIV LEK</td>\n",
       "    </tr>\n",
       "  </tbody>\n",
       "</table>\n",
       "<p>110 rows × 1 columns</p>\n",
       "</div>"
      ],
      "text/plain": [
       "              name\n",
       "0          QUI-GON\n",
       "1      NUTE GUNRAY\n",
       "2             PK-4\n",
       "3            TC-14\n",
       "4          OBI-WAN\n",
       "..             ...\n",
       "105      YOLO ZIFF\n",
       "106  COLONEL DATOO\n",
       "107      ELLO ASTY\n",
       "108           JESS\n",
       "109        NIV LEK\n",
       "\n",
       "[110 rows x 1 columns]"
      ]
     },
     "execution_count": 4,
     "metadata": {},
     "output_type": "execute_result"
    }
   ],
   "source": [
    "# generate a table with all character as a base table for the summary\n",
    "sum_table = pd.DataFrame(base['nodes'])[['name']]\n",
    "sum_table"
   ]
  },
  {
   "cell_type": "code",
   "execution_count": 5,
   "metadata": {
    "ExecuteTime": {
     "end_time": "2020-10-31T19:44:03.506717Z",
     "start_time": "2020-10-31T19:44:03.426707Z"
    }
   },
   "outputs": [
    {
     "name": "stdout",
     "output_type": "stream",
     "text": [
      "ep_1 information was added to the summary table\n",
      "ep_2 information was added to the summary table\n",
      "ep_3 information was added to the summary table\n",
      "ep_4 information was added to the summary table\n",
      "ep_5 information was added to the summary table\n",
      "ep_6 information was added to the summary table\n",
      "ep_7 information was added to the summary table\n"
     ]
    }
   ],
   "source": [
    "# create a list of episodes\n",
    "ep_list = ['ep_1', 'ep_2', 'ep_3', 'ep_4', 'ep_5', 'ep_6', 'ep_7']\n",
    "\n",
    "# loops over the list to merge information whether a character appears in each episode to the summary table\n",
    "for ep in ep_list:\n",
    "    # create a dataframe(`df`) from `nodes` element in each episode's dictionary\n",
    "    df = pd.DataFrame(vars()[ep]['nodes'])\n",
    "    # subset only the `name` column\n",
    "    df = df[['name']]\n",
    "    # create a new column with a name corresponding to its episode with a value 1 in each row\n",
    "    df.loc[:, ep] = 1\n",
    "    # merge the newly created dataframe to the summary table\n",
    "    sum_table = pd.merge(sum_table, df, on = 'name', how = 'left')\n",
    "    print('{} information was added to the summary table'.format(ep))\n",
    "\n",
    "# fill NAN with 0\n",
    "sum_table.fillna(0, inplace = True)"
   ]
  },
  {
   "cell_type": "code",
   "execution_count": 6,
   "metadata": {
    "ExecuteTime": {
     "end_time": "2020-10-31T19:44:03.532158Z",
     "start_time": "2020-10-31T19:44:03.508248Z"
    }
   },
   "outputs": [
    {
     "data": {
      "text/html": [
       "<div>\n",
       "<style scoped>\n",
       "    .dataframe tbody tr th:only-of-type {\n",
       "        vertical-align: middle;\n",
       "    }\n",
       "\n",
       "    .dataframe tbody tr th {\n",
       "        vertical-align: top;\n",
       "    }\n",
       "\n",
       "    .dataframe thead th {\n",
       "        text-align: right;\n",
       "    }\n",
       "</style>\n",
       "<table border=\"1\" class=\"dataframe\">\n",
       "  <thead>\n",
       "    <tr style=\"text-align: right;\">\n",
       "      <th></th>\n",
       "      <th>name</th>\n",
       "      <th>ep_1</th>\n",
       "      <th>ep_2</th>\n",
       "      <th>ep_3</th>\n",
       "      <th>ep_4</th>\n",
       "      <th>ep_5</th>\n",
       "      <th>ep_6</th>\n",
       "      <th>ep_7</th>\n",
       "    </tr>\n",
       "  </thead>\n",
       "  <tbody>\n",
       "    <tr>\n",
       "      <th>0</th>\n",
       "      <td>QUI-GON</td>\n",
       "      <td>1.0</td>\n",
       "      <td>0.0</td>\n",
       "      <td>1.0</td>\n",
       "      <td>0.0</td>\n",
       "      <td>0.0</td>\n",
       "      <td>0.0</td>\n",
       "      <td>0.0</td>\n",
       "    </tr>\n",
       "    <tr>\n",
       "      <th>1</th>\n",
       "      <td>NUTE GUNRAY</td>\n",
       "      <td>1.0</td>\n",
       "      <td>1.0</td>\n",
       "      <td>1.0</td>\n",
       "      <td>0.0</td>\n",
       "      <td>0.0</td>\n",
       "      <td>0.0</td>\n",
       "      <td>0.0</td>\n",
       "    </tr>\n",
       "    <tr>\n",
       "      <th>2</th>\n",
       "      <td>PK-4</td>\n",
       "      <td>1.0</td>\n",
       "      <td>1.0</td>\n",
       "      <td>0.0</td>\n",
       "      <td>0.0</td>\n",
       "      <td>0.0</td>\n",
       "      <td>0.0</td>\n",
       "      <td>0.0</td>\n",
       "    </tr>\n",
       "    <tr>\n",
       "      <th>3</th>\n",
       "      <td>TC-14</td>\n",
       "      <td>1.0</td>\n",
       "      <td>0.0</td>\n",
       "      <td>0.0</td>\n",
       "      <td>0.0</td>\n",
       "      <td>0.0</td>\n",
       "      <td>0.0</td>\n",
       "      <td>0.0</td>\n",
       "    </tr>\n",
       "    <tr>\n",
       "      <th>4</th>\n",
       "      <td>OBI-WAN</td>\n",
       "      <td>1.0</td>\n",
       "      <td>1.0</td>\n",
       "      <td>1.0</td>\n",
       "      <td>1.0</td>\n",
       "      <td>1.0</td>\n",
       "      <td>1.0</td>\n",
       "      <td>0.0</td>\n",
       "    </tr>\n",
       "    <tr>\n",
       "      <th>...</th>\n",
       "      <td>...</td>\n",
       "      <td>...</td>\n",
       "      <td>...</td>\n",
       "      <td>...</td>\n",
       "      <td>...</td>\n",
       "      <td>...</td>\n",
       "      <td>...</td>\n",
       "      <td>...</td>\n",
       "    </tr>\n",
       "    <tr>\n",
       "      <th>105</th>\n",
       "      <td>YOLO ZIFF</td>\n",
       "      <td>0.0</td>\n",
       "      <td>0.0</td>\n",
       "      <td>0.0</td>\n",
       "      <td>0.0</td>\n",
       "      <td>0.0</td>\n",
       "      <td>0.0</td>\n",
       "      <td>1.0</td>\n",
       "    </tr>\n",
       "    <tr>\n",
       "      <th>106</th>\n",
       "      <td>COLONEL DATOO</td>\n",
       "      <td>0.0</td>\n",
       "      <td>0.0</td>\n",
       "      <td>0.0</td>\n",
       "      <td>0.0</td>\n",
       "      <td>0.0</td>\n",
       "      <td>0.0</td>\n",
       "      <td>1.0</td>\n",
       "    </tr>\n",
       "    <tr>\n",
       "      <th>107</th>\n",
       "      <td>ELLO ASTY</td>\n",
       "      <td>0.0</td>\n",
       "      <td>0.0</td>\n",
       "      <td>0.0</td>\n",
       "      <td>0.0</td>\n",
       "      <td>0.0</td>\n",
       "      <td>0.0</td>\n",
       "      <td>1.0</td>\n",
       "    </tr>\n",
       "    <tr>\n",
       "      <th>108</th>\n",
       "      <td>JESS</td>\n",
       "      <td>0.0</td>\n",
       "      <td>0.0</td>\n",
       "      <td>0.0</td>\n",
       "      <td>0.0</td>\n",
       "      <td>0.0</td>\n",
       "      <td>0.0</td>\n",
       "      <td>1.0</td>\n",
       "    </tr>\n",
       "    <tr>\n",
       "      <th>109</th>\n",
       "      <td>NIV LEK</td>\n",
       "      <td>0.0</td>\n",
       "      <td>0.0</td>\n",
       "      <td>0.0</td>\n",
       "      <td>0.0</td>\n",
       "      <td>0.0</td>\n",
       "      <td>0.0</td>\n",
       "      <td>1.0</td>\n",
       "    </tr>\n",
       "  </tbody>\n",
       "</table>\n",
       "<p>110 rows × 8 columns</p>\n",
       "</div>"
      ],
      "text/plain": [
       "              name  ep_1  ep_2  ep_3  ep_4  ep_5  ep_6  ep_7\n",
       "0          QUI-GON   1.0   0.0   1.0   0.0   0.0   0.0   0.0\n",
       "1      NUTE GUNRAY   1.0   1.0   1.0   0.0   0.0   0.0   0.0\n",
       "2             PK-4   1.0   1.0   0.0   0.0   0.0   0.0   0.0\n",
       "3            TC-14   1.0   0.0   0.0   0.0   0.0   0.0   0.0\n",
       "4          OBI-WAN   1.0   1.0   1.0   1.0   1.0   1.0   0.0\n",
       "..             ...   ...   ...   ...   ...   ...   ...   ...\n",
       "105      YOLO ZIFF   0.0   0.0   0.0   0.0   0.0   0.0   1.0\n",
       "106  COLONEL DATOO   0.0   0.0   0.0   0.0   0.0   0.0   1.0\n",
       "107      ELLO ASTY   0.0   0.0   0.0   0.0   0.0   0.0   1.0\n",
       "108           JESS   0.0   0.0   0.0   0.0   0.0   0.0   1.0\n",
       "109        NIV LEK   0.0   0.0   0.0   0.0   0.0   0.0   1.0\n",
       "\n",
       "[110 rows x 8 columns]"
      ]
     },
     "execution_count": 6,
     "metadata": {},
     "output_type": "execute_result"
    }
   ],
   "source": [
    "sum_table"
   ]
  },
  {
   "cell_type": "code",
   "execution_count": 7,
   "metadata": {
    "ExecuteTime": {
     "end_time": "2020-10-31T19:44:03.570991Z",
     "start_time": "2020-10-31T19:44:03.533803Z"
    }
   },
   "outputs": [],
   "source": [
    "# create a dictionary format\n",
    "keys = np.array(sum_table['name'])\n",
    "values = np.array(sum_table.loc[:, sum_table.columns != 'name'])\n",
    "sum_dict = {}\n",
    "\n",
    "for key, value in zip(keys, values):\n",
    "    sum_dict[key] = value"
   ]
  },
  {
   "cell_type": "code",
   "execution_count": 8,
   "metadata": {
    "ExecuteTime": {
     "end_time": "2020-10-31T19:44:03.645856Z",
     "start_time": "2020-10-31T19:44:03.576310Z"
    }
   },
   "outputs": [
    {
     "data": {
      "text/plain": [
       "{'QUI-GON': array([1., 0., 1., 0., 0., 0., 0.]),\n",
       " 'NUTE GUNRAY': array([1., 1., 1., 0., 0., 0., 0.]),\n",
       " 'PK-4': array([1., 1., 0., 0., 0., 0., 0.]),\n",
       " 'TC-14': array([1., 0., 0., 0., 0., 0., 0.]),\n",
       " 'OBI-WAN': array([1., 1., 1., 1., 1., 1., 0.]),\n",
       " 'DOFINE': array([1., 0., 0., 0., 0., 0., 0.]),\n",
       " 'RUNE': array([1., 0., 0., 0., 0., 0., 0.]),\n",
       " 'TEY HOW': array([1., 0., 0., 0., 0., 0., 0.]),\n",
       " 'EMPEROR': array([1., 1., 1., 0., 1., 1., 0.]),\n",
       " 'CAPTAIN PANAKA': array([1., 0., 0., 0., 0., 0., 0.]),\n",
       " 'SIO BIBBLE': array([1., 1., 0., 0., 0., 0., 0.]),\n",
       " 'JAR JAR': array([1., 1., 1., 0., 0., 0., 0.]),\n",
       " 'TARPALS': array([1., 0., 0., 0., 0., 0., 0.]),\n",
       " 'BOSS NASS': array([1., 0., 0., 0., 0., 0., 0.]),\n",
       " 'PADME': array([1., 1., 1., 0., 0., 0., 0.]),\n",
       " 'RIC OLIE': array([1., 0., 0., 0., 0., 0., 0.]),\n",
       " 'WATTO': array([1., 1., 0., 0., 0., 0., 0.]),\n",
       " 'ANAKIN': array([1., 1., 1., 0., 0., 1., 0.]),\n",
       " 'SEBULBA': array([1., 0., 0., 0., 0., 0., 0.]),\n",
       " 'JIRA': array([1., 0., 0., 0., 0., 0., 0.]),\n",
       " 'SHMI': array([1., 1., 0., 0., 0., 0., 0.]),\n",
       " 'C-3PO': array([1., 1., 1., 1., 1., 1., 1.]),\n",
       " 'DARTH MAUL': array([1., 0., 0., 0., 0., 0., 0.]),\n",
       " 'KITSTER': array([1., 0., 0., 0., 0., 0., 0.]),\n",
       " 'WALD': array([1., 0., 0., 0., 0., 0., 0.]),\n",
       " 'FODE/BEED': array([1., 0., 0., 0., 0., 0., 0.]),\n",
       " 'JABBA': array([1., 0., 0., 1., 0., 1., 0.]),\n",
       " 'GREEDO': array([1., 0., 0., 1., 0., 0., 0.]),\n",
       " 'VALORUM': array([1., 0., 0., 0., 0., 0., 0.]),\n",
       " 'MACE WINDU': array([1., 1., 1., 0., 0., 0., 0.]),\n",
       " 'KI-ADI-MUNDI': array([1., 1., 0., 0., 0., 0., 0.]),\n",
       " 'YODA': array([1., 1., 1., 0., 1., 1., 0.]),\n",
       " 'RABE': array([1., 0., 0., 0., 0., 0., 0.]),\n",
       " 'BAIL ORGANA': array([1., 1., 1., 0., 0., 0., 0.]),\n",
       " 'GENERAL CEEL': array([1., 0., 0., 0., 0., 0., 0.]),\n",
       " 'BRAVO TWO': array([1., 0., 0., 0., 0., 0., 0.]),\n",
       " 'BRAVO THREE': array([1., 0., 0., 0., 0., 0., 0.]),\n",
       " 'CAPTAIN TYPHO': array([0., 1., 1., 0., 0., 0., 0.]),\n",
       " 'SENATOR ASK AAK': array([0., 1., 0., 0., 0., 0., 0.]),\n",
       " 'ORN FREE TAA': array([0., 1., 0., 0., 0., 0., 0.]),\n",
       " 'SOLA': array([0., 1., 0., 0., 0., 0., 0.]),\n",
       " 'JOBAL': array([0., 1., 0., 0., 0., 0., 0.]),\n",
       " 'RUWEE': array([0., 1., 0., 0., 0., 0., 0.]),\n",
       " 'TAUN WE': array([0., 1., 0., 0., 0., 0., 0.]),\n",
       " 'LAMA SU': array([0., 1., 0., 0., 0., 0., 0.]),\n",
       " 'BOBA FETT': array([0., 1., 0., 0., 1., 0., 0.]),\n",
       " 'JANGO FETT': array([0., 1., 0., 0., 0., 0., 0.]),\n",
       " 'OWEN': array([0., 1., 0., 1., 0., 0., 0.]),\n",
       " 'BERU': array([0., 1., 0., 1., 0., 0., 0.]),\n",
       " 'CLIEGG': array([0., 1., 0., 0., 0., 0., 0.]),\n",
       " 'COUNT DOOKU': array([0., 1., 1., 0., 0., 0., 0.]),\n",
       " 'SUN RIT': array([0., 1., 0., 0., 0., 0., 0.]),\n",
       " 'POGGLE': array([0., 1., 0., 0., 0., 0., 0.]),\n",
       " 'PLO KOON': array([0., 1., 1., 0., 0., 0., 0.]),\n",
       " 'ODD BALL': array([0., 0., 1., 0., 0., 0., 0.]),\n",
       " 'GENERAL GRIEVOUS': array([0., 0., 1., 0., 0., 0., 0.]),\n",
       " 'FANG ZAR': array([0., 0., 1., 0., 0., 0., 0.]),\n",
       " 'MON MOTHMA': array([0., 0., 1., 0., 0., 1., 0.]),\n",
       " 'GIDDEAN DANU': array([0., 0., 1., 0., 0., 0., 0.]),\n",
       " 'CLONE COMMANDER GREE': array([0., 0., 1., 0., 0., 0., 0.]),\n",
       " 'CLONE COMMANDER CODY': array([0., 0., 1., 0., 0., 0., 0.]),\n",
       " 'TION MEDON': array([0., 0., 1., 0., 0., 0., 0.]),\n",
       " 'CAPTAIN ANTILLES': array([0., 0., 1., 0., 0., 0., 0.]),\n",
       " 'DARTH VADER': array([0., 0., 1., 1., 1., 1., 0.]),\n",
       " 'LUKE': array([0., 0., 0., 1., 1., 1., 0.]),\n",
       " 'CAMIE': array([0., 0., 0., 1., 0., 0., 0.]),\n",
       " 'BIGGS': array([0., 0., 0., 1., 0., 0., 0.]),\n",
       " 'LEIA': array([0., 0., 0., 1., 1., 1., 1.]),\n",
       " 'MOTTI': array([0., 0., 0., 1., 0., 0., 0.]),\n",
       " 'TARKIN': array([0., 0., 0., 1., 0., 0., 0.]),\n",
       " 'HAN': array([0., 0., 0., 1., 1., 1., 1.]),\n",
       " 'DODONNA': array([0., 0., 0., 1., 0., 0., 0.]),\n",
       " 'GOLD LEADER': array([0., 0., 0., 1., 0., 0., 0.]),\n",
       " 'WEDGE': array([0., 0., 0., 1., 1., 1., 0.]),\n",
       " 'RED LEADER': array([0., 0., 0., 1., 0., 0., 0.]),\n",
       " 'RED TEN': array([0., 0., 0., 1., 0., 0., 0.]),\n",
       " 'GOLD FIVE': array([0., 0., 0., 1., 0., 0., 0.]),\n",
       " 'RIEEKAN': array([0., 0., 0., 0., 1., 0., 0.]),\n",
       " 'DERLIN': array([0., 0., 0., 0., 1., 0., 0.]),\n",
       " 'ZEV': array([0., 0., 0., 0., 1., 0., 0.]),\n",
       " 'PIETT': array([0., 0., 0., 0., 1., 1., 0.]),\n",
       " 'OZZEL': array([0., 0., 0., 0., 1., 0., 0.]),\n",
       " 'DACK': array([0., 0., 0., 0., 1., 0., 0.]),\n",
       " 'JANSON': array([0., 0., 0., 0., 1., 0., 0.]),\n",
       " 'NEEDA': array([0., 0., 0., 0., 1., 0., 0.]),\n",
       " 'LANDO': array([0., 0., 0., 0., 1., 1., 0.]),\n",
       " 'JERJERROD': array([0., 0., 0., 0., 0., 1., 0.]),\n",
       " 'BIB FORTUNA': array([0., 0., 0., 0., 0., 1., 0.]),\n",
       " 'BOUSHH': array([0., 0., 0., 0., 0., 1., 0.]),\n",
       " 'ADMIRAL ACKBAR': array([0., 0., 0., 0., 0., 1., 1.]),\n",
       " 'LOR SAN TEKKA': array([0., 0., 0., 0., 0., 0., 1.]),\n",
       " 'POE': array([0., 0., 0., 0., 0., 0., 1.]),\n",
       " 'KYLO REN': array([0., 0., 0., 0., 0., 0., 1.]),\n",
       " 'CAPTAIN PHASMA': array([0., 0., 0., 0., 0., 0., 1.]),\n",
       " 'FINN': array([0., 0., 0., 0., 0., 0., 1.]),\n",
       " 'UNKAR PLUTT': array([0., 0., 0., 0., 0., 0., 1.]),\n",
       " 'REY': array([0., 0., 0., 0., 0., 0., 1.]),\n",
       " 'GENERAL HUX': array([0., 0., 0., 0., 0., 0., 1.]),\n",
       " 'LIEUTENANT MITAKA': array([0., 0., 0., 0., 0., 0., 1.]),\n",
       " 'BALA-TIK': array([0., 0., 0., 0., 0., 0., 1.]),\n",
       " 'SNOKE': array([0., 0., 0., 0., 0., 0., 1.]),\n",
       " 'MAZ': array([0., 0., 0., 0., 0., 0., 1.]),\n",
       " 'BB-8': array([0., 0., 0., 0., 0., 0., 1.]),\n",
       " 'SNAP': array([0., 0., 0., 0., 0., 0., 1.]),\n",
       " 'ADMIRAL STATURA': array([0., 0., 0., 0., 0., 0., 1.]),\n",
       " 'YOLO ZIFF': array([0., 0., 0., 0., 0., 0., 1.]),\n",
       " 'COLONEL DATOO': array([0., 0., 0., 0., 0., 0., 1.]),\n",
       " 'ELLO ASTY': array([0., 0., 0., 0., 0., 0., 1.]),\n",
       " 'JESS': array([0., 0., 0., 0., 0., 0., 1.]),\n",
       " 'NIV LEK': array([0., 0., 0., 0., 0., 0., 1.])}"
      ]
     },
     "execution_count": 8,
     "metadata": {},
     "output_type": "execute_result"
    }
   ],
   "source": [
    "sum_dict"
   ]
  },
  {
   "cell_type": "code",
   "execution_count": null,
   "metadata": {},
   "outputs": [],
   "source": []
  }
 ],
 "metadata": {
  "kernelspec": {
   "display_name": "Python [conda env:smm638mtp]",
   "language": "python",
   "name": "conda-env-smm638mtp-py"
  },
  "language_info": {
   "codemirror_mode": {
    "name": "ipython",
    "version": 3
   },
   "file_extension": ".py",
   "mimetype": "text/x-python",
   "name": "python",
   "nbconvert_exporter": "python",
   "pygments_lexer": "ipython3",
   "version": "3.8.6"
  },
  "latex_envs": {
   "LaTeX_envs_menu_present": true,
   "autoclose": false,
   "autocomplete": true,
   "bibliofile": "biblio.bib",
   "cite_by": "apalike",
   "current_citInitial": 1,
   "eqLabelWithNumbers": true,
   "eqNumInitial": 1,
   "hotkeys": {
    "equation": "Ctrl-E",
    "itemize": "Ctrl-I"
   },
   "labels_anchors": false,
   "latex_user_defs": false,
   "report_style_numbering": false,
   "user_envs_cfg": false
  },
  "toc": {
   "base_numbering": 1,
   "nav_menu": {},
   "number_sections": true,
   "sideBar": true,
   "skip_h1_title": false,
   "title_cell": "Table of Contents",
   "title_sidebar": "Contents",
   "toc_cell": false,
   "toc_position": {},
   "toc_section_display": true,
   "toc_window_display": false
  },
  "varInspector": {
   "cols": {
    "lenName": 16,
    "lenType": 16,
    "lenVar": 40
   },
   "kernels_config": {
    "python": {
     "delete_cmd_postfix": "",
     "delete_cmd_prefix": "del ",
     "library": "var_list.py",
     "varRefreshCmd": "print(var_dic_list())"
    },
    "r": {
     "delete_cmd_postfix": ") ",
     "delete_cmd_prefix": "rm(",
     "library": "var_list.r",
     "varRefreshCmd": "cat(var_dic_list()) "
    }
   },
   "types_to_exclude": [
    "module",
    "function",
    "builtin_function_or_method",
    "instance",
    "_Feature"
   ],
   "window_display": false
  }
 },
 "nbformat": 4,
 "nbformat_minor": 4
}
