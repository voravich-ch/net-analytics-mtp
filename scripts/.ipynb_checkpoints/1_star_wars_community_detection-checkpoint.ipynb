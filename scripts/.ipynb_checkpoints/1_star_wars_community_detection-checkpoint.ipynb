{
 "cells": [
  {
   "cell_type": "markdown",
   "metadata": {},
   "source": [
    "# Preparation"
   ]
  },
  {
   "cell_type": "markdown",
   "metadata": {},
   "source": [
    "## Import relevant libraries"
   ]
  },
  {
   "cell_type": "code",
   "execution_count": 1,
   "metadata": {
    "ExecuteTime": {
     "end_time": "2020-11-10T18:04:44.556816Z",
     "start_time": "2020-11-10T18:04:43.647585Z"
    }
   },
   "outputs": [],
   "source": [
    "import networkx as nx\n",
    "import matplotlib.pyplot as plt\n",
    "import pathlib\n",
    "import pandas as pd\n",
    "\n",
    "from community_detection.data_preprocessing import load_starwars_graph\n",
    "from community_detection.algorithms import *\n",
    "from community_detection.visualize import plot_3d\n",
    "from community_detection.evaluation import *"
   ]
  },
  {
   "cell_type": "markdown",
   "metadata": {},
   "source": [
    "## Load Star-Wars graph"
   ]
  },
  {
   "cell_type": "code",
   "execution_count": 2,
   "metadata": {
    "ExecuteTime": {
     "end_time": "2020-11-10T18:04:44.582301Z",
     "start_time": "2020-11-10T18:04:44.568694Z"
    }
   },
   "outputs": [
    {
     "name": "stdout",
     "output_type": "stream",
     "text": [
      "Name: Star-Wars\n",
      "Type: Graph\n",
      "Number of nodes: 110\n",
      "Number of edges: 398\n",
      "Average degree:   7.2364\n"
     ]
    }
   ],
   "source": [
    "G = load_starwars_graph()"
   ]
  },
  {
   "cell_type": "markdown",
   "metadata": {},
   "source": [
    "# Girvan-Newman"
   ]
  },
  {
   "cell_type": "markdown",
   "metadata": {},
   "source": [
    "## Model Implementation"
   ]
  },
  {
   "cell_type": "code",
   "execution_count": null,
   "metadata": {
    "ExecuteTime": {
     "end_time": "2020-11-10T13:16:11.005470Z",
     "start_time": "2020-11-10T13:15:52.102145Z"
    }
   },
   "outputs": [],
   "source": [
    "gn_communities = girvan_newman_detection(G)"
   ]
  },
  {
   "cell_type": "markdown",
   "metadata": {},
   "source": [
    "## Visualization"
   ]
  },
  {
   "cell_type": "code",
   "execution_count": null,
   "metadata": {
    "ExecuteTime": {
     "end_time": "2020-11-10T13:16:11.797998Z",
     "start_time": "2020-11-10T13:16:11.007097Z"
    },
    "scrolled": true
   },
   "outputs": [],
   "source": [
    "plot_3d(G, gn_communities)"
   ]
  },
  {
   "cell_type": "markdown",
   "metadata": {},
   "source": [
    "# Clauset-Newman-Moore"
   ]
  },
  {
   "cell_type": "markdown",
   "metadata": {},
   "source": [
    "## Model Implementation"
   ]
  },
  {
   "cell_type": "code",
   "execution_count": null,
   "metadata": {
    "ExecuteTime": {
     "end_time": "2020-11-10T13:16:11.833267Z",
     "start_time": "2020-11-10T13:16:11.799291Z"
    }
   },
   "outputs": [],
   "source": [
    "cnm_communities = clauset_newman_moore_detection(G)"
   ]
  },
  {
   "cell_type": "markdown",
   "metadata": {},
   "source": [
    "## Visualization"
   ]
  },
  {
   "cell_type": "code",
   "execution_count": null,
   "metadata": {
    "ExecuteTime": {
     "end_time": "2020-11-10T13:16:12.458034Z",
     "start_time": "2020-11-10T13:16:11.834588Z"
    }
   },
   "outputs": [],
   "source": [
    "plot_3d(G, cnm_communities)"
   ]
  },
  {
   "cell_type": "markdown",
   "metadata": {},
   "source": [
    "# Louvain"
   ]
  },
  {
   "cell_type": "markdown",
   "metadata": {},
   "source": [
    "## Model Implementation"
   ]
  },
  {
   "cell_type": "code",
   "execution_count": null,
   "metadata": {
    "ExecuteTime": {
     "end_time": "2020-11-10T13:16:12.484635Z",
     "start_time": "2020-11-10T13:16:12.459549Z"
    }
   },
   "outputs": [],
   "source": [
    "lv_communities = louvain_detection(G)"
   ]
  },
  {
   "cell_type": "markdown",
   "metadata": {},
   "source": [
    "## Visualization"
   ]
  },
  {
   "cell_type": "code",
   "execution_count": null,
   "metadata": {
    "ExecuteTime": {
     "end_time": "2020-11-10T13:16:13.076108Z",
     "start_time": "2020-11-10T13:16:12.487294Z"
    }
   },
   "outputs": [],
   "source": [
    "plot_3d(G, lv_communities)"
   ]
  },
  {
   "cell_type": "markdown",
   "metadata": {},
   "source": [
    "# Infomap"
   ]
  },
  {
   "cell_type": "markdown",
   "metadata": {},
   "source": [
    "## Model Implementation"
   ]
  },
  {
   "cell_type": "code",
   "execution_count": 3,
   "metadata": {
    "ExecuteTime": {
     "end_time": "2020-11-10T18:04:48.136914Z",
     "start_time": "2020-11-10T18:04:48.124456Z"
    }
   },
   "outputs": [
    {
     "name": "stdout",
     "output_type": "stream",
     "text": [
      "Infomap Community Detection\n",
      "---------------------------\n",
      "Number of communities detected: 10\n",
      "Number of nodes not in any community: 1\n"
     ]
    }
   ],
   "source": [
    "im_communities = infomap_detection(G)"
   ]
  },
  {
   "cell_type": "markdown",
   "metadata": {},
   "source": [
    "## Visualization"
   ]
  },
  {
   "cell_type": "code",
   "execution_count": null,
   "metadata": {
    "ExecuteTime": {
     "end_time": "2020-11-10T13:16:13.716550Z",
     "start_time": "2020-11-10T13:16:13.094232Z"
    },
    "scrolled": true
   },
   "outputs": [],
   "source": [
    "plot_3d(G, im_communities)"
   ]
  },
  {
   "cell_type": "markdown",
   "metadata": {},
   "source": [
    "# Leiden"
   ]
  },
  {
   "cell_type": "markdown",
   "metadata": {},
   "source": [
    "## Model Implementation"
   ]
  },
  {
   "cell_type": "code",
   "execution_count": null,
   "metadata": {
    "ExecuteTime": {
     "end_time": "2020-11-10T13:16:13.727496Z",
     "start_time": "2020-11-10T13:16:13.717841Z"
    }
   },
   "outputs": [],
   "source": [
    "ld_communities = leiden_detection(G)"
   ]
  },
  {
   "cell_type": "markdown",
   "metadata": {},
   "source": [
    "## Visualization"
   ]
  },
  {
   "cell_type": "code",
   "execution_count": null,
   "metadata": {
    "ExecuteTime": {
     "end_time": "2020-11-10T13:16:14.362063Z",
     "start_time": "2020-11-10T13:16:13.728766Z"
    }
   },
   "outputs": [],
   "source": [
    "plot_3d(G, ld_communities)"
   ]
  },
  {
   "cell_type": "markdown",
   "metadata": {},
   "source": [
    "# Evaluation: Compare & Contrast"
   ]
  },
  {
   "cell_type": "code",
   "execution_count": 6,
   "metadata": {
    "ExecuteTime": {
     "end_time": "2020-11-10T18:07:53.046547Z",
     "start_time": "2020-11-10T18:07:53.029570Z"
    }
   },
   "outputs": [
    {
     "ename": "NameError",
     "evalue": "name 'gn_communities' is not defined",
     "output_type": "error",
     "traceback": [
      "\u001b[0;31m---------------------------------------------------------------------------\u001b[0m",
      "\u001b[0;31mNameError\u001b[0m                                 Traceback (most recent call last)",
      "\u001b[0;32m<ipython-input-6-2a346387e6e2>\u001b[0m in \u001b[0;36m<module>\u001b[0;34m\u001b[0m\n\u001b[1;32m      1\u001b[0m \u001b[0;31m# list of models and communities for comparison analysis\u001b[0m\u001b[0;34m\u001b[0m\u001b[0;34m\u001b[0m\u001b[0;34m\u001b[0m\u001b[0m\n\u001b[0;32m----> 2\u001b[0;31m \u001b[0mcommu_list\u001b[0m \u001b[0;34m=\u001b[0m \u001b[0;34m[\u001b[0m\u001b[0mgn_communities\u001b[0m\u001b[0;34m,\u001b[0m \u001b[0mcnm_communities\u001b[0m\u001b[0;34m,\u001b[0m \u001b[0mlv_communities\u001b[0m\u001b[0;34m,\u001b[0m \u001b[0mim_communities\u001b[0m\u001b[0;34m,\u001b[0m \u001b[0mld_communities\u001b[0m\u001b[0;34m]\u001b[0m\u001b[0;34m\u001b[0m\u001b[0;34m\u001b[0m\u001b[0m\n\u001b[0m",
      "\u001b[0;31mNameError\u001b[0m: name 'gn_communities' is not defined"
     ]
    }
   ],
   "source": [
    "# list of models and communities for comparison analysis\n",
    "commu_list = [gn_communities, cnm_communities, lv_communities, im_communities, ld_communities]"
   ]
  },
  {
   "cell_type": "markdown",
   "metadata": {},
   "source": [
    "## Execution time comparison"
   ]
  },
  {
   "cell_type": "code",
   "execution_count": null,
   "metadata": {
    "ExecuteTime": {
     "end_time": "2020-11-10T13:19:29.165837Z",
     "start_time": "2020-11-10T13:16:14.367102Z"
    }
   },
   "outputs": [],
   "source": [
    "execution_time_metric = evaluate_execution_time(G, commu_list)\n",
    "execution_time_metric"
   ]
  },
  {
   "cell_type": "markdown",
   "metadata": {},
   "source": [
    "## Modularity comparison"
   ]
  },
  {
   "cell_type": "code",
   "execution_count": null,
   "metadata": {
    "ExecuteTime": {
     "end_time": "2020-11-10T13:19:29.182077Z",
     "start_time": "2020-11-10T13:19:29.167175Z"
    }
   },
   "outputs": [],
   "source": [
    "modularity_metric = evaluate_modularity(G, commu_list)\n",
    "modularity_metric"
   ]
  },
  {
   "cell_type": "markdown",
   "metadata": {},
   "source": [
    "## Coverage comparison"
   ]
  },
  {
   "cell_type": "code",
   "execution_count": null,
   "metadata": {
    "ExecuteTime": {
     "end_time": "2020-11-10T13:19:29.211789Z",
     "start_time": "2020-11-10T13:19:29.183577Z"
    }
   },
   "outputs": [],
   "source": [
    "coverage_metric = evaluate_coverage(G, commu_list)\n",
    "coverage_metric"
   ]
  },
  {
   "cell_type": "markdown",
   "metadata": {},
   "source": [
    "## Performance comparison"
   ]
  },
  {
   "cell_type": "code",
   "execution_count": null,
   "metadata": {
    "ExecuteTime": {
     "end_time": "2020-11-10T13:19:29.695416Z",
     "start_time": "2020-11-10T13:19:29.213038Z"
    }
   },
   "outputs": [],
   "source": [
    "performance_metric = evaluate_performance(G, commu_list)\n",
    "performance_metric"
   ]
  },
  {
   "cell_type": "markdown",
   "metadata": {},
   "source": [
    "## Summarizing table"
   ]
  },
  {
   "cell_type": "code",
   "execution_count": null,
   "metadata": {
    "ExecuteTime": {
     "end_time": "2020-11-10T13:19:29.710560Z",
     "start_time": "2020-11-10T13:19:29.696604Z"
    }
   },
   "outputs": [],
   "source": [
    "summary_table = pd.DataFrame(np.array([list(execution_time_metric.values()), list(modularity_metric.values()), \n",
    "                                       list(coverage_metric.values()), list(performance_metric.values())]),\n",
    "                             index = ['execution time', 'modularity', 'coverage', 'performance'],\n",
    "                             columns = ['girvan-newman', 'clauset-newman-moore', 'louvain', 'infomap', 'leiden']).T\n",
    "summary_table"
   ]
  },
  {
   "cell_type": "markdown",
   "metadata": {},
   "source": [
    "# Qualitative evaluation"
   ]
  },
  {
   "cell_type": "code",
   "execution_count": null,
   "metadata": {
    "ExecuteTime": {
     "end_time": "2020-11-10T13:19:29.810618Z",
     "start_time": "2020-11-10T13:19:29.711889Z"
    }
   },
   "outputs": [],
   "source": [
    "table = qualitative_evaluation(G, commu_list)\n",
    "table"
   ]
  }
 ],
 "metadata": {
  "kernelspec": {
   "display_name": "Python [conda env:smm638mtp]",
   "language": "python",
   "name": "conda-env-smm638mtp-py"
  },
  "language_info": {
   "codemirror_mode": {
    "name": "ipython",
    "version": 3
   },
   "file_extension": ".py",
   "mimetype": "text/x-python",
   "name": "python",
   "nbconvert_exporter": "python",
   "pygments_lexer": "ipython3",
   "version": "3.8.6"
  },
  "latex_envs": {
   "LaTeX_envs_menu_present": true,
   "autoclose": false,
   "autocomplete": true,
   "bibliofile": "biblio.bib",
   "cite_by": "apalike",
   "current_citInitial": 1,
   "eqLabelWithNumbers": true,
   "eqNumInitial": 1,
   "hotkeys": {
    "equation": "Ctrl-E",
    "itemize": "Ctrl-I"
   },
   "labels_anchors": false,
   "latex_user_defs": false,
   "report_style_numbering": false,
   "user_envs_cfg": false
  },
  "toc": {
   "base_numbering": 1,
   "nav_menu": {},
   "number_sections": true,
   "sideBar": true,
   "skip_h1_title": false,
   "title_cell": "Table of Contents",
   "title_sidebar": "Contents",
   "toc_cell": false,
   "toc_position": {
    "height": "calc(100% - 180px)",
    "left": "10px",
    "top": "150px",
    "width": "369.6px"
   },
   "toc_section_display": true,
   "toc_window_display": true
  },
  "varInspector": {
   "cols": {
    "lenName": 16,
    "lenType": 16,
    "lenVar": 40
   },
   "kernels_config": {
    "python": {
     "delete_cmd_postfix": "",
     "delete_cmd_prefix": "del ",
     "library": "var_list.py",
     "varRefreshCmd": "print(var_dic_list())"
    },
    "r": {
     "delete_cmd_postfix": ") ",
     "delete_cmd_prefix": "rm(",
     "library": "var_list.r",
     "varRefreshCmd": "cat(var_dic_list()) "
    }
   },
   "types_to_exclude": [
    "module",
    "function",
    "builtin_function_or_method",
    "instance",
    "_Feature"
   ],
   "window_display": false
  }
 },
 "nbformat": 4,
 "nbformat_minor": 4
}
