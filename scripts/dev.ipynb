{
 "cells": [
  {
   "cell_type": "code",
   "execution_count": 1,
   "metadata": {
    "ExecuteTime": {
     "end_time": "2020-11-09T02:18:51.433980Z",
     "start_time": "2020-11-09T02:18:50.536207Z"
    }
   },
   "outputs": [],
   "source": [
    "import networkx as nx\n",
    "import matplotlib.pyplot as plt\n",
    "import pathlib\n",
    "import pandas as pd\n",
    "\n",
    "from community_detection.algorithms import *\n",
    "from community_detection.visualize import plot_3d"
   ]
  },
  {
   "cell_type": "code",
   "execution_count": 2,
   "metadata": {
    "ExecuteTime": {
     "end_time": "2020-11-09T02:18:51.443534Z",
     "start_time": "2020-11-09T02:18:51.437696Z"
    }
   },
   "outputs": [],
   "source": [
    "from community_detection.evaluation import *\n",
    "import networkx.algorithms.community as nx_comm"
   ]
  },
  {
   "cell_type": "code",
   "execution_count": 3,
   "metadata": {
    "ExecuteTime": {
     "end_time": "2020-11-09T02:18:51.497885Z",
     "start_time": "2020-11-09T02:18:51.445318Z"
    }
   },
   "outputs": [
    {
     "name": "stdout",
     "output_type": "stream",
     "text": [
      "Name: Erdős-Rényi\n",
      "Type: Graph\n",
      "Number of nodes: 110\n",
      "Number of edges: 300\n",
      "Average degree:   5.4545\n"
     ]
    }
   ],
   "source": [
    "# generate Erdős-Rényi graph\n",
    "G = nx.gnp_random_graph(110, 0.05, seed = 7)\n",
    "\n",
    "# define the graph's name\n",
    "G.name = \"Erdős-Rényi\"\n",
    "print(nx.info(G))"
   ]
  },
  {
   "cell_type": "code",
   "execution_count": 4,
   "metadata": {
    "ExecuteTime": {
     "end_time": "2020-11-09T02:18:51.584255Z",
     "start_time": "2020-11-09T02:18:51.499533Z"
    }
   },
   "outputs": [
    {
     "name": "stdout",
     "output_type": "stream",
     "text": [
      "Clauset-Newman-Moore Community Detection\n",
      "----------------------------------------\n",
      "Number of communities detected: 7\n"
     ]
    }
   ],
   "source": [
    "cnm_communities = clauset_newman_moore_detection(G)"
   ]
  },
  {
   "cell_type": "code",
   "execution_count": 5,
   "metadata": {
    "ExecuteTime": {
     "end_time": "2020-11-09T02:18:51.646847Z",
     "start_time": "2020-11-09T02:18:51.586961Z"
    }
   },
   "outputs": [
    {
     "name": "stdout",
     "output_type": "stream",
     "text": [
      "Louvain Community Detection\n",
      "---------------------------\n",
      "Number of communities detected: 8\n"
     ]
    }
   ],
   "source": [
    "lv_communities = louvain_detection(G)"
   ]
  },
  {
   "cell_type": "code",
   "execution_count": 6,
   "metadata": {
    "ExecuteTime": {
     "end_time": "2020-11-09T02:18:51.696497Z",
     "start_time": "2020-11-09T02:18:51.648608Z"
    }
   },
   "outputs": [
    {
     "name": "stdout",
     "output_type": "stream",
     "text": [
      "Infomap Community Detection\n",
      "---------------------------\n",
      "Number of communities detected: 13\n"
     ]
    }
   ],
   "source": [
    "im_communities = infomap_detection(G)"
   ]
  },
  {
   "cell_type": "code",
   "execution_count": 7,
   "metadata": {
    "ExecuteTime": {
     "end_time": "2020-11-09T02:18:51.751204Z",
     "start_time": "2020-11-09T02:18:51.698259Z"
    }
   },
   "outputs": [],
   "source": [
    "commu_list = [cnm_communities, lv_communities, im_communities]"
   ]
  },
  {
   "cell_type": "code",
   "execution_count": 8,
   "metadata": {
    "ExecuteTime": {
     "end_time": "2020-11-09T02:18:51.807956Z",
     "start_time": "2020-11-09T02:18:51.753790Z"
    }
   },
   "outputs": [],
   "source": [
    "c = cnm_communities['communities']"
   ]
  },
  {
   "cell_type": "code",
   "execution_count": 9,
   "metadata": {
    "ExecuteTime": {
     "end_time": "2020-11-09T02:18:51.869273Z",
     "start_time": "2020-11-09T02:18:51.809489Z"
    }
   },
   "outputs": [
    {
     "data": {
      "text/plain": [
       "{0: 3,\n",
       " 1: 1,\n",
       " 2: 6,\n",
       " 3: 0,\n",
       " 4: 2,\n",
       " 5: 4,\n",
       " 6: 1,\n",
       " 7: 2,\n",
       " 8: 1,\n",
       " 9: 3,\n",
       " 10: 6,\n",
       " 11: 0,\n",
       " 12: 0,\n",
       " 13: 1,\n",
       " 14: 2,\n",
       " 15: 4,\n",
       " 16: 0,\n",
       " 17: 2,\n",
       " 18: 1,\n",
       " 19: 4,\n",
       " 20: 0,\n",
       " 21: 0,\n",
       " 22: 3,\n",
       " 23: 6,\n",
       " 24: 2,\n",
       " 25: 5,\n",
       " 26: 2,\n",
       " 27: 1,\n",
       " 28: 4,\n",
       " 29: 2,\n",
       " 30: 0,\n",
       " 31: 6,\n",
       " 32: 2,\n",
       " 33: 2,\n",
       " 34: 4,\n",
       " 35: 1,\n",
       " 36: 0,\n",
       " 37: 5,\n",
       " 38: 3,\n",
       " 39: 0,\n",
       " 40: 2,\n",
       " 41: 3,\n",
       " 42: 6,\n",
       " 43: 0,\n",
       " 44: 4,\n",
       " 45: 1,\n",
       " 46: 5,\n",
       " 47: 1,\n",
       " 48: 2,\n",
       " 49: 0,\n",
       " 50: 1,\n",
       " 51: 3,\n",
       " 52: 5,\n",
       " 53: 4,\n",
       " 54: 0,\n",
       " 55: 2,\n",
       " 56: 1,\n",
       " 57: 0,\n",
       " 58: 4,\n",
       " 59: 0,\n",
       " 60: 1,\n",
       " 61: 5,\n",
       " 62: 3,\n",
       " 63: 3,\n",
       " 64: 5,\n",
       " 65: 0,\n",
       " 66: 4,\n",
       " 67: 1,\n",
       " 68: 4,\n",
       " 69: 0,\n",
       " 70: 1,\n",
       " 71: 0,\n",
       " 72: 1,\n",
       " 73: 1,\n",
       " 74: 2,\n",
       " 75: 1,\n",
       " 76: 2,\n",
       " 77: 0,\n",
       " 78: 2,\n",
       " 79: 3,\n",
       " 80: 5,\n",
       " 81: 0,\n",
       " 82: 3,\n",
       " 83: 1,\n",
       " 84: 2,\n",
       " 85: 3,\n",
       " 86: 0,\n",
       " 87: 1,\n",
       " 88: 4,\n",
       " 89: 3,\n",
       " 90: 0,\n",
       " 91: 2,\n",
       " 92: 1,\n",
       " 93: 3,\n",
       " 94: 5,\n",
       " 95: 6,\n",
       " 96: 0,\n",
       " 97: 5,\n",
       " 98: 6,\n",
       " 99: 1,\n",
       " 100: 6,\n",
       " 101: 5,\n",
       " 102: 0,\n",
       " 103: 0,\n",
       " 104: 1,\n",
       " 105: 6,\n",
       " 106: 3,\n",
       " 107: 1,\n",
       " 108: 0,\n",
       " 109: 1}"
      ]
     },
     "execution_count": 9,
     "metadata": {},
     "output_type": "execute_result"
    }
   ],
   "source": [
    "c"
   ]
  },
  {
   "cell_type": "code",
   "execution_count": 10,
   "metadata": {
    "ExecuteTime": {
     "end_time": "2020-11-09T02:18:51.927337Z",
     "start_time": "2020-11-09T02:18:51.870961Z"
    },
    "scrolled": true
   },
   "outputs": [
    {
     "data": {
      "text/plain": [
       "{'Clauset-Newman-Moore': 0.3624944444444444,\n",
       " 'Louvain': 0.3864111111111111,\n",
       " 'Infomap': 0.3872055555555556}"
      ]
     },
     "execution_count": 10,
     "metadata": {},
     "output_type": "execute_result"
    }
   ],
   "source": [
    "eval_modularity(G, commu_list)"
   ]
  }
 ],
 "metadata": {
  "kernelspec": {
   "display_name": "Python [conda env:smm638mtp]",
   "language": "python",
   "name": "conda-env-smm638mtp-py"
  },
  "language_info": {
   "codemirror_mode": {
    "name": "ipython",
    "version": 3
   },
   "file_extension": ".py",
   "mimetype": "text/x-python",
   "name": "python",
   "nbconvert_exporter": "python",
   "pygments_lexer": "ipython3",
   "version": "3.8.6"
  },
  "latex_envs": {
   "LaTeX_envs_menu_present": true,
   "autoclose": false,
   "autocomplete": true,
   "bibliofile": "biblio.bib",
   "cite_by": "apalike",
   "current_citInitial": 1,
   "eqLabelWithNumbers": true,
   "eqNumInitial": 1,
   "hotkeys": {
    "equation": "Ctrl-E",
    "itemize": "Ctrl-I"
   },
   "labels_anchors": false,
   "latex_user_defs": false,
   "report_style_numbering": false,
   "user_envs_cfg": false
  },
  "toc": {
   "base_numbering": 1,
   "nav_menu": {},
   "number_sections": true,
   "sideBar": true,
   "skip_h1_title": false,
   "title_cell": "Table of Contents",
   "title_sidebar": "Contents",
   "toc_cell": false,
   "toc_position": {},
   "toc_section_display": true,
   "toc_window_display": false
  },
  "varInspector": {
   "cols": {
    "lenName": 16,
    "lenType": 16,
    "lenVar": 40
   },
   "kernels_config": {
    "python": {
     "delete_cmd_postfix": "",
     "delete_cmd_prefix": "del ",
     "library": "var_list.py",
     "varRefreshCmd": "print(var_dic_list())"
    },
    "r": {
     "delete_cmd_postfix": ") ",
     "delete_cmd_prefix": "rm(",
     "library": "var_list.r",
     "varRefreshCmd": "cat(var_dic_list()) "
    }
   },
   "types_to_exclude": [
    "module",
    "function",
    "builtin_function_or_method",
    "instance",
    "_Feature"
   ],
   "window_display": false
  }
 },
 "nbformat": 4,
 "nbformat_minor": 4
}
