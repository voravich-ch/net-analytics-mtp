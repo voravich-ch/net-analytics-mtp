{
 "cells": [
  {
   "cell_type": "markdown",
   "metadata": {
    "ExecuteTime": {
     "end_time": "2020-10-31T18:30:02.721385Z",
     "start_time": "2020-10-31T18:30:02.717025Z"
    }
   },
   "source": [
    "# Content\n",
    "starwars-episode-N-interactions.json contains the social network extracted from Episode N, where the links between characters are defined by the times the characters speak within the same scene.\n",
    "\n",
    "## Nodes\n",
    "\n",
    "**name:** Name of the character  \n",
    "**value:** Number of scenes the character appeared in  \n",
    "**colour:** Colour in the visualization  \n",
    "\n",
    "## Links represent connections between characters  \n",
    "\n",
    "**source:** zero-based index of the character that is one end of the link, the order of nodes is the order in which they are listed in the “nodes” element  \n",
    "**target:** zero-based index of the character that is the the other end of the link.  \n",
    "**value:** Number of scenes where the “source character” and “target character” of the link appeared together.  \n",
    "\n",
    "The network is undirected and which character represents the source and the target is arbitrary, they correspond only to two ends of the link."
   ]
  },
  {
   "cell_type": "markdown",
   "metadata": {},
   "source": [
    "# Import relevant libraries"
   ]
  },
  {
   "cell_type": "code",
   "execution_count": 1,
   "metadata": {
    "ExecuteTime": {
     "end_time": "2020-10-31T18:44:10.787058Z",
     "start_time": "2020-10-31T18:44:10.001545Z"
    }
   },
   "outputs": [],
   "source": [
    "import os\n",
    "import json\n",
    "import numpy as np\n",
    "import pandas as pd\n",
    "import networkx as nx\n",
    "import matplotlib.pyplot as plt"
   ]
  },
  {
   "cell_type": "markdown",
   "metadata": {},
   "source": [
    "# Load data"
   ]
  },
  {
   "cell_type": "code",
   "execution_count": 2,
   "metadata": {
    "ExecuteTime": {
     "end_time": "2020-10-31T18:44:10.925634Z",
     "start_time": "2020-10-31T18:44:10.920407Z"
    }
   },
   "outputs": [],
   "source": [
    "# setup data path\n",
    "base_path = os.path.join('..', 'datasets')\n",
    "file_path = os.path.join(base_path, 'starwars-full-interactions.json')\n",
    "\n",
    "with open(file_path) as json_file:\n",
    "    data = json.load(json_file)"
   ]
  },
  {
   "cell_type": "code",
   "execution_count": 3,
   "metadata": {
    "ExecuteTime": {
     "end_time": "2020-10-31T18:44:10.939291Z",
     "start_time": "2020-10-31T18:44:10.927936Z"
    }
   },
   "outputs": [],
   "source": [
    "nodes = data['nodes']"
   ]
  },
  {
   "cell_type": "code",
   "execution_count": 4,
   "metadata": {
    "ExecuteTime": {
     "end_time": "2020-10-31T18:44:11.330231Z",
     "start_time": "2020-10-31T18:44:10.941000Z"
    }
   },
   "outputs": [],
   "source": [
    "edges = data['links']"
   ]
  },
  {
   "cell_type": "code",
   "execution_count": 5,
   "metadata": {
    "ExecuteTime": {
     "end_time": "2020-10-31T18:44:11.348009Z",
     "start_time": "2020-10-31T18:44:11.333377Z"
    }
   },
   "outputs": [
    {
     "data": {
      "text/html": [
       "<div>\n",
       "<style scoped>\n",
       "    .dataframe tbody tr th:only-of-type {\n",
       "        vertical-align: middle;\n",
       "    }\n",
       "\n",
       "    .dataframe tbody tr th {\n",
       "        vertical-align: top;\n",
       "    }\n",
       "\n",
       "    .dataframe thead th {\n",
       "        text-align: right;\n",
       "    }\n",
       "</style>\n",
       "<table border=\"1\" class=\"dataframe\">\n",
       "  <thead>\n",
       "    <tr style=\"text-align: right;\">\n",
       "      <th></th>\n",
       "      <th>name</th>\n",
       "      <th>value</th>\n",
       "      <th>colour</th>\n",
       "    </tr>\n",
       "  </thead>\n",
       "  <tbody>\n",
       "    <tr>\n",
       "      <th>0</th>\n",
       "      <td>QUI-GON</td>\n",
       "      <td>61</td>\n",
       "      <td>#4f4fb1</td>\n",
       "    </tr>\n",
       "    <tr>\n",
       "      <th>1</th>\n",
       "      <td>NUTE GUNRAY</td>\n",
       "      <td>24</td>\n",
       "      <td>#808080</td>\n",
       "    </tr>\n",
       "    <tr>\n",
       "      <th>2</th>\n",
       "      <td>PK-4</td>\n",
       "      <td>3</td>\n",
       "      <td>#808080</td>\n",
       "    </tr>\n",
       "    <tr>\n",
       "      <th>3</th>\n",
       "      <td>TC-14</td>\n",
       "      <td>4</td>\n",
       "      <td>#808080</td>\n",
       "    </tr>\n",
       "    <tr>\n",
       "      <th>4</th>\n",
       "      <td>OBI-WAN</td>\n",
       "      <td>147</td>\n",
       "      <td>#48D1CC</td>\n",
       "    </tr>\n",
       "  </tbody>\n",
       "</table>\n",
       "</div>"
      ],
      "text/plain": [
       "          name  value   colour\n",
       "0      QUI-GON     61  #4f4fb1\n",
       "1  NUTE GUNRAY     24  #808080\n",
       "2         PK-4      3  #808080\n",
       "3        TC-14      4  #808080\n",
       "4      OBI-WAN    147  #48D1CC"
      ]
     },
     "execution_count": 5,
     "metadata": {},
     "output_type": "execute_result"
    }
   ],
   "source": [
    "df_nodes = pd.DataFrame(nodes)\n",
    "df_nodes.head()"
   ]
  },
  {
   "cell_type": "code",
   "execution_count": 6,
   "metadata": {
    "ExecuteTime": {
     "end_time": "2020-10-31T18:44:11.368079Z",
     "start_time": "2020-10-31T18:44:11.349480Z"
    }
   },
   "outputs": [
    {
     "data": {
      "text/html": [
       "<div>\n",
       "<style scoped>\n",
       "    .dataframe tbody tr th:only-of-type {\n",
       "        vertical-align: middle;\n",
       "    }\n",
       "\n",
       "    .dataframe tbody tr th {\n",
       "        vertical-align: top;\n",
       "    }\n",
       "\n",
       "    .dataframe thead th {\n",
       "        text-align: right;\n",
       "    }\n",
       "</style>\n",
       "<table border=\"1\" class=\"dataframe\">\n",
       "  <thead>\n",
       "    <tr style=\"text-align: right;\">\n",
       "      <th></th>\n",
       "      <th>name</th>\n",
       "      <th>value</th>\n",
       "      <th>colour</th>\n",
       "    </tr>\n",
       "  </thead>\n",
       "  <tbody>\n",
       "    <tr>\n",
       "      <th>70</th>\n",
       "      <td>HAN</td>\n",
       "      <td>169</td>\n",
       "      <td>#ff9400</td>\n",
       "    </tr>\n",
       "    <tr>\n",
       "      <th>64</th>\n",
       "      <td>LUKE</td>\n",
       "      <td>160</td>\n",
       "      <td>#3881e5</td>\n",
       "    </tr>\n",
       "    <tr>\n",
       "      <th>21</th>\n",
       "      <td>C-3PO</td>\n",
       "      <td>150</td>\n",
       "      <td>#FFD700</td>\n",
       "    </tr>\n",
       "    <tr>\n",
       "      <th>4</th>\n",
       "      <td>OBI-WAN</td>\n",
       "      <td>147</td>\n",
       "      <td>#48D1CC</td>\n",
       "    </tr>\n",
       "    <tr>\n",
       "      <th>17</th>\n",
       "      <td>ANAKIN</td>\n",
       "      <td>131</td>\n",
       "      <td>#ce3b59</td>\n",
       "    </tr>\n",
       "    <tr>\n",
       "      <th>67</th>\n",
       "      <td>LEIA</td>\n",
       "      <td>98</td>\n",
       "      <td>#DCDCDC</td>\n",
       "    </tr>\n",
       "    <tr>\n",
       "      <th>14</th>\n",
       "      <td>PADME</td>\n",
       "      <td>74</td>\n",
       "      <td>#DDA0DD</td>\n",
       "    </tr>\n",
       "    <tr>\n",
       "      <th>94</th>\n",
       "      <td>FINN</td>\n",
       "      <td>63</td>\n",
       "      <td>#07b19f</td>\n",
       "    </tr>\n",
       "    <tr>\n",
       "      <th>0</th>\n",
       "      <td>QUI-GON</td>\n",
       "      <td>61</td>\n",
       "      <td>#4f4fb1</td>\n",
       "    </tr>\n",
       "    <tr>\n",
       "      <th>63</th>\n",
       "      <td>DARTH VADER</td>\n",
       "      <td>58</td>\n",
       "      <td>#000000</td>\n",
       "    </tr>\n",
       "  </tbody>\n",
       "</table>\n",
       "</div>"
      ],
      "text/plain": [
       "           name  value   colour\n",
       "70          HAN    169  #ff9400\n",
       "64         LUKE    160  #3881e5\n",
       "21        C-3PO    150  #FFD700\n",
       "4       OBI-WAN    147  #48D1CC\n",
       "17       ANAKIN    131  #ce3b59\n",
       "67         LEIA     98  #DCDCDC\n",
       "14        PADME     74  #DDA0DD\n",
       "94         FINN     63  #07b19f\n",
       "0       QUI-GON     61  #4f4fb1\n",
       "63  DARTH VADER     58  #000000"
      ]
     },
     "execution_count": 6,
     "metadata": {},
     "output_type": "execute_result"
    }
   ],
   "source": [
    "df_nodes.sort_values(by = 'value', ascending = False).head(10)"
   ]
  },
  {
   "cell_type": "code",
   "execution_count": 7,
   "metadata": {
    "ExecuteTime": {
     "end_time": "2020-10-31T18:44:11.382941Z",
     "start_time": "2020-10-31T18:44:11.369466Z"
    },
    "scrolled": true
   },
   "outputs": [
    {
     "data": {
      "text/html": [
       "<div>\n",
       "<style scoped>\n",
       "    .dataframe tbody tr th:only-of-type {\n",
       "        vertical-align: middle;\n",
       "    }\n",
       "\n",
       "    .dataframe tbody tr th {\n",
       "        vertical-align: top;\n",
       "    }\n",
       "\n",
       "    .dataframe thead th {\n",
       "        text-align: right;\n",
       "    }\n",
       "</style>\n",
       "<table border=\"1\" class=\"dataframe\">\n",
       "  <thead>\n",
       "    <tr style=\"text-align: right;\">\n",
       "      <th></th>\n",
       "      <th>source</th>\n",
       "      <th>target</th>\n",
       "      <th>value</th>\n",
       "    </tr>\n",
       "  </thead>\n",
       "  <tbody>\n",
       "    <tr>\n",
       "      <th>0</th>\n",
       "      <td>1</td>\n",
       "      <td>0</td>\n",
       "      <td>1</td>\n",
       "    </tr>\n",
       "    <tr>\n",
       "      <th>1</th>\n",
       "      <td>2</td>\n",
       "      <td>3</td>\n",
       "      <td>1</td>\n",
       "    </tr>\n",
       "    <tr>\n",
       "      <th>2</th>\n",
       "      <td>4</td>\n",
       "      <td>3</td>\n",
       "      <td>1</td>\n",
       "    </tr>\n",
       "    <tr>\n",
       "      <th>3</th>\n",
       "      <td>0</td>\n",
       "      <td>3</td>\n",
       "      <td>1</td>\n",
       "    </tr>\n",
       "    <tr>\n",
       "      <th>4</th>\n",
       "      <td>4</td>\n",
       "      <td>0</td>\n",
       "      <td>26</td>\n",
       "    </tr>\n",
       "  </tbody>\n",
       "</table>\n",
       "</div>"
      ],
      "text/plain": [
       "   source  target  value\n",
       "0       1       0      1\n",
       "1       2       3      1\n",
       "2       4       3      1\n",
       "3       0       3      1\n",
       "4       4       0     26"
      ]
     },
     "execution_count": 7,
     "metadata": {},
     "output_type": "execute_result"
    }
   ],
   "source": [
    "df_edges = pd.DataFrame(edges)\n",
    "df_edges.head()"
   ]
  },
  {
   "cell_type": "code",
   "execution_count": 8,
   "metadata": {
    "ExecuteTime": {
     "end_time": "2020-10-31T18:44:11.395601Z",
     "start_time": "2020-10-31T18:44:11.386138Z"
    }
   },
   "outputs": [
    {
     "data": {
      "text/html": [
       "<div>\n",
       "<style scoped>\n",
       "    .dataframe tbody tr th:only-of-type {\n",
       "        vertical-align: middle;\n",
       "    }\n",
       "\n",
       "    .dataframe tbody tr th {\n",
       "        vertical-align: top;\n",
       "    }\n",
       "\n",
       "    .dataframe thead th {\n",
       "        text-align: right;\n",
       "    }\n",
       "</style>\n",
       "<table border=\"1\" class=\"dataframe\">\n",
       "  <thead>\n",
       "    <tr style=\"text-align: right;\">\n",
       "      <th></th>\n",
       "      <th>index</th>\n",
       "      <th>name</th>\n",
       "      <th>value</th>\n",
       "      <th>colour</th>\n",
       "    </tr>\n",
       "  </thead>\n",
       "  <tbody>\n",
       "    <tr>\n",
       "      <th>0</th>\n",
       "      <td>0</td>\n",
       "      <td>QUI-GON</td>\n",
       "      <td>61</td>\n",
       "      <td>#4f4fb1</td>\n",
       "    </tr>\n",
       "    <tr>\n",
       "      <th>1</th>\n",
       "      <td>1</td>\n",
       "      <td>NUTE GUNRAY</td>\n",
       "      <td>24</td>\n",
       "      <td>#808080</td>\n",
       "    </tr>\n",
       "    <tr>\n",
       "      <th>2</th>\n",
       "      <td>2</td>\n",
       "      <td>PK-4</td>\n",
       "      <td>3</td>\n",
       "      <td>#808080</td>\n",
       "    </tr>\n",
       "    <tr>\n",
       "      <th>3</th>\n",
       "      <td>3</td>\n",
       "      <td>TC-14</td>\n",
       "      <td>4</td>\n",
       "      <td>#808080</td>\n",
       "    </tr>\n",
       "    <tr>\n",
       "      <th>4</th>\n",
       "      <td>4</td>\n",
       "      <td>OBI-WAN</td>\n",
       "      <td>147</td>\n",
       "      <td>#48D1CC</td>\n",
       "    </tr>\n",
       "  </tbody>\n",
       "</table>\n",
       "</div>"
      ],
      "text/plain": [
       "   index         name  value   colour\n",
       "0      0      QUI-GON     61  #4f4fb1\n",
       "1      1  NUTE GUNRAY     24  #808080\n",
       "2      2         PK-4      3  #808080\n",
       "3      3        TC-14      4  #808080\n",
       "4      4      OBI-WAN    147  #48D1CC"
      ]
     },
     "execution_count": 8,
     "metadata": {},
     "output_type": "execute_result"
    }
   ],
   "source": [
    "df_nodes.reset_index(inplace = True)\n",
    "df_nodes.head()"
   ]
  },
  {
   "cell_type": "code",
   "execution_count": 9,
   "metadata": {
    "ExecuteTime": {
     "end_time": "2020-10-31T18:44:11.412159Z",
     "start_time": "2020-10-31T18:44:11.397132Z"
    }
   },
   "outputs": [
    {
     "data": {
      "text/html": [
       "<div>\n",
       "<style scoped>\n",
       "    .dataframe tbody tr th:only-of-type {\n",
       "        vertical-align: middle;\n",
       "    }\n",
       "\n",
       "    .dataframe tbody tr th {\n",
       "        vertical-align: top;\n",
       "    }\n",
       "\n",
       "    .dataframe thead th {\n",
       "        text-align: right;\n",
       "    }\n",
       "</style>\n",
       "<table border=\"1\" class=\"dataframe\">\n",
       "  <thead>\n",
       "    <tr style=\"text-align: right;\">\n",
       "      <th></th>\n",
       "      <th>node_id</th>\n",
       "      <th>name</th>\n",
       "      <th>value</th>\n",
       "      <th>colour</th>\n",
       "    </tr>\n",
       "  </thead>\n",
       "  <tbody>\n",
       "    <tr>\n",
       "      <th>0</th>\n",
       "      <td>0</td>\n",
       "      <td>QUI-GON</td>\n",
       "      <td>61</td>\n",
       "      <td>#4f4fb1</td>\n",
       "    </tr>\n",
       "    <tr>\n",
       "      <th>1</th>\n",
       "      <td>1</td>\n",
       "      <td>NUTE GUNRAY</td>\n",
       "      <td>24</td>\n",
       "      <td>#808080</td>\n",
       "    </tr>\n",
       "    <tr>\n",
       "      <th>2</th>\n",
       "      <td>2</td>\n",
       "      <td>PK-4</td>\n",
       "      <td>3</td>\n",
       "      <td>#808080</td>\n",
       "    </tr>\n",
       "    <tr>\n",
       "      <th>3</th>\n",
       "      <td>3</td>\n",
       "      <td>TC-14</td>\n",
       "      <td>4</td>\n",
       "      <td>#808080</td>\n",
       "    </tr>\n",
       "    <tr>\n",
       "      <th>4</th>\n",
       "      <td>4</td>\n",
       "      <td>OBI-WAN</td>\n",
       "      <td>147</td>\n",
       "      <td>#48D1CC</td>\n",
       "    </tr>\n",
       "  </tbody>\n",
       "</table>\n",
       "</div>"
      ],
      "text/plain": [
       "   node_id         name  value   colour\n",
       "0        0      QUI-GON     61  #4f4fb1\n",
       "1        1  NUTE GUNRAY     24  #808080\n",
       "2        2         PK-4      3  #808080\n",
       "3        3        TC-14      4  #808080\n",
       "4        4      OBI-WAN    147  #48D1CC"
      ]
     },
     "execution_count": 9,
     "metadata": {},
     "output_type": "execute_result"
    }
   ],
   "source": [
    "df_nodes.rename(columns = {'index' : 'node_id'}, inplace = True)\n",
    "df_nodes.head()"
   ]
  },
  {
   "cell_type": "code",
   "execution_count": 10,
   "metadata": {
    "ExecuteTime": {
     "end_time": "2020-10-31T18:44:11.423376Z",
     "start_time": "2020-10-31T18:44:11.413382Z"
    }
   },
   "outputs": [],
   "source": [
    "nodes_list = list(df_nodes.node_id)"
   ]
  },
  {
   "cell_type": "code",
   "execution_count": 11,
   "metadata": {
    "ExecuteTime": {
     "end_time": "2020-10-31T18:44:11.434630Z",
     "start_time": "2020-10-31T18:44:11.424680Z"
    }
   },
   "outputs": [],
   "source": [
    "edges_list = list(zip(df_edges.source, df_edges.target))"
   ]
  },
  {
   "cell_type": "code",
   "execution_count": 12,
   "metadata": {
    "ExecuteTime": {
     "end_time": "2020-10-31T18:44:11.450709Z",
     "start_time": "2020-10-31T18:44:11.435787Z"
    }
   },
   "outputs": [],
   "source": [
    "weight = list(df_edges.value)"
   ]
  },
  {
   "cell_type": "code",
   "execution_count": 13,
   "metadata": {
    "ExecuteTime": {
     "end_time": "2020-10-31T18:44:11.462943Z",
     "start_time": "2020-10-31T18:44:11.451977Z"
    }
   },
   "outputs": [],
   "source": [
    "# initialize a new graph object\n",
    "G = nx.Graph()\n",
    "\n",
    "# populate the graph with nodes\n",
    "G.add_nodes_from(nodes_list)\n",
    "\n",
    "# populate the graph with edges\n",
    "G.add_edges_from(edges_list, edge_attr =df_edges.value)"
   ]
  },
  {
   "cell_type": "code",
   "execution_count": 14,
   "metadata": {
    "ExecuteTime": {
     "end_time": "2020-10-31T18:44:11.699927Z",
     "start_time": "2020-10-31T18:44:11.692493Z"
    }
   },
   "outputs": [],
   "source": [
    "# plot decoration\n",
    "# map the color of each node with its community\n",
    "colors = list(df_nodes.colour)\n",
    "color_map = []\n",
    "# loop over nodes in G\n",
    "for node in G:\n",
    "    color_map.append(colors[node])\n",
    "\n",
    "options = {\n",
    "    'node_color': color_map,\n",
    "    'node_size': 400,\n",
    "    'alpha': 1,\n",
    "    'width': 1,\n",
    "    'with_labels': True,\n",
    "    'font_size': 10,\n",
    "    'font_color': 'white'}"
   ]
  },
  {
   "cell_type": "code",
   "execution_count": 15,
   "metadata": {
    "ExecuteTime": {
     "end_time": "2020-10-31T18:44:12.698079Z",
     "start_time": "2020-10-31T18:44:11.701990Z"
    }
   },
   "outputs": [
    {
     "data": {
      "image/png": "[encoded data removed]",
      "text/plain": [
       "<Figure size 576x432 with 1 Axes>"
      ]
     },
     "metadata": {},
     "output_type": "display_data"
    }
   ],
   "source": [
    "# set graph pattern\n",
    "pos = nx.kamada_kawai_layout(G)\n",
    "    \n",
    "#set graph size\n",
    "plt.figure(figsize=(8, 6)) \n",
    "\n",
    "# draw the network\n",
    "nx.draw(G, pos, **options)\n"
   ]
  },
  {
   "cell_type": "code",
   "execution_count": 16,
   "metadata": {
    "ExecuteTime": {
     "end_time": "2020-10-31T18:44:12.702738Z",
     "start_time": "2020-10-31T18:44:12.699432Z"
    }
   },
   "outputs": [
    {
     "name": "stdout",
     "output_type": "stream",
     "text": [
      "Name: \n",
      "Type: Graph\n",
      "Number of nodes: 110\n",
      "Number of edges: 398\n",
      "Average degree:   7.2364\n"
     ]
    }
   ],
   "source": [
    "print(nx.info(G))"
   ]
  },
  {
   "cell_type": "code",
   "execution_count": 17,
   "metadata": {
    "ExecuteTime": {
     "end_time": "2020-10-31T18:44:12.724058Z",
     "start_time": "2020-10-31T18:44:12.704426Z"
    }
   },
   "outputs": [
    {
     "data": {
      "text/html": [
       "<div>\n",
       "<style scoped>\n",
       "    .dataframe tbody tr th:only-of-type {\n",
       "        vertical-align: middle;\n",
       "    }\n",
       "\n",
       "    .dataframe tbody tr th {\n",
       "        vertical-align: top;\n",
       "    }\n",
       "\n",
       "    .dataframe thead th {\n",
       "        text-align: right;\n",
       "    }\n",
       "</style>\n",
       "<table border=\"1\" class=\"dataframe\">\n",
       "  <thead>\n",
       "    <tr style=\"text-align: right;\">\n",
       "      <th></th>\n",
       "      <th>node_id</th>\n",
       "      <th>name</th>\n",
       "      <th>value</th>\n",
       "      <th>colour</th>\n",
       "    </tr>\n",
       "  </thead>\n",
       "  <tbody>\n",
       "    <tr>\n",
       "      <th>76</th>\n",
       "      <td>76</td>\n",
       "      <td>GOLD FIVE</td>\n",
       "      <td>8</td>\n",
       "      <td>#808080</td>\n",
       "    </tr>\n",
       "  </tbody>\n",
       "</table>\n",
       "</div>"
      ],
      "text/plain": [
       "    node_id       name  value   colour\n",
       "76       76  GOLD FIVE      8  #808080"
      ]
     },
     "execution_count": 17,
     "metadata": {},
     "output_type": "execute_result"
    }
   ],
   "source": [
    "df_nodes[df_nodes['node_id']==76]"
   ]
  },
  {
   "cell_type": "code",
   "execution_count": 18,
   "metadata": {
    "ExecuteTime": {
     "end_time": "2020-10-31T18:44:12.930423Z",
     "start_time": "2020-10-31T18:44:12.725819Z"
    }
   },
   "outputs": [],
   "source": [
    "from networkx.algorithms import degree_centrality\n",
    "from networkx.algorithms import eigenvector_centrality\n",
    "from networkx.algorithms import betweenness_centrality\n",
    "import seaborn as sns"
   ]
  },
  {
   "cell_type": "code",
   "execution_count": 19,
   "metadata": {
    "ExecuteTime": {
     "end_time": "2020-10-31T18:44:13.045579Z",
     "start_time": "2020-10-31T18:44:12.932048Z"
    }
   },
   "outputs": [],
   "source": [
    "# degree\n",
    "degree = degree_centrality(G)\n",
    "\n",
    "# eigenvector_centrality\n",
    "ec = eigenvector_centrality(G)\n",
    "\n",
    "# betweeness centrality\n",
    "bc = betweenness_centrality(G)"
   ]
  },
  {
   "cell_type": "code",
   "execution_count": 20,
   "metadata": {
    "ExecuteTime": {
     "end_time": "2020-10-31T18:44:13.052571Z",
     "start_time": "2020-10-31T18:44:13.047149Z"
    }
   },
   "outputs": [],
   "source": [
    "# visualize results\n",
    "# --+ df\n",
    "df = pd.DataFrame({'degree': degree, 'eigenvector_centrality': ec,\n",
    "                   'betweenness_centrality': bc})"
   ]
  },
  {
   "cell_type": "code",
   "execution_count": 21,
   "metadata": {
    "ExecuteTime": {
     "end_time": "2020-10-31T18:44:15.026956Z",
     "start_time": "2020-10-31T18:44:13.054023Z"
    }
   },
   "outputs": [
    {
     "data": {
      "text/plain": [
       "<seaborn.axisgrid.PairGrid at 0x7f2fdeda3880>"
      ]
     },
     "execution_count": 21,
     "metadata": {},
     "output_type": "execute_result"
    },
    {
     "data": {
      "image/png": "[encoded data removed]",
      "text/plain": [
       "<Figure size 540x540 with 12 Axes>"
      ]
     },
     "metadata": {},
     "output_type": "display_data"
    }
   ],
   "source": [
    "# --+ correlation matrix\n",
    "df.corr()\n",
    "# --+ scatter plot matrix\n",
    "\n",
    "# visualization options\n",
    "sns.set_theme(style=\"ticks\")\n",
    "\n",
    "sns.pairplot(df)"
   ]
  },
  {
   "cell_type": "code",
   "execution_count": 22,
   "metadata": {
    "ExecuteTime": {
     "end_time": "2020-10-31T18:44:15.038113Z",
     "start_time": "2020-10-31T18:44:15.028170Z"
    }
   },
   "outputs": [
    {
     "data": {
      "text/html": [
       "<div>\n",
       "<style scoped>\n",
       "    .dataframe tbody tr th:only-of-type {\n",
       "        vertical-align: middle;\n",
       "    }\n",
       "\n",
       "    .dataframe tbody tr th {\n",
       "        vertical-align: top;\n",
       "    }\n",
       "\n",
       "    .dataframe thead th {\n",
       "        text-align: right;\n",
       "    }\n",
       "</style>\n",
       "<table border=\"1\" class=\"dataframe\">\n",
       "  <thead>\n",
       "    <tr style=\"text-align: right;\">\n",
       "      <th></th>\n",
       "      <th>degree</th>\n",
       "      <th>eigenvector_centrality</th>\n",
       "      <th>betweenness_centrality</th>\n",
       "    </tr>\n",
       "  </thead>\n",
       "  <tbody>\n",
       "    <tr>\n",
       "      <th>0</th>\n",
       "      <td>0.238532</td>\n",
       "      <td>0.255767</td>\n",
       "      <td>0.036212</td>\n",
       "    </tr>\n",
       "    <tr>\n",
       "      <th>1</th>\n",
       "      <td>0.146789</td>\n",
       "      <td>0.139163</td>\n",
       "      <td>0.040897</td>\n",
       "    </tr>\n",
       "    <tr>\n",
       "      <th>2</th>\n",
       "      <td>0.018349</td>\n",
       "      <td>0.023463</td>\n",
       "      <td>0.000000</td>\n",
       "    </tr>\n",
       "    <tr>\n",
       "      <th>3</th>\n",
       "      <td>0.045872</td>\n",
       "      <td>0.049392</td>\n",
       "      <td>0.005642</td>\n",
       "    </tr>\n",
       "    <tr>\n",
       "      <th>4</th>\n",
       "      <td>0.321101</td>\n",
       "      <td>0.296814</td>\n",
       "      <td>0.212897</td>\n",
       "    </tr>\n",
       "    <tr>\n",
       "      <th>...</th>\n",
       "      <td>...</td>\n",
       "      <td>...</td>\n",
       "      <td>...</td>\n",
       "    </tr>\n",
       "    <tr>\n",
       "      <th>105</th>\n",
       "      <td>0.036697</td>\n",
       "      <td>0.004825</td>\n",
       "      <td>0.000000</td>\n",
       "    </tr>\n",
       "    <tr>\n",
       "      <th>106</th>\n",
       "      <td>0.009174</td>\n",
       "      <td>0.000181</td>\n",
       "      <td>0.000000</td>\n",
       "    </tr>\n",
       "    <tr>\n",
       "      <th>107</th>\n",
       "      <td>0.036697</td>\n",
       "      <td>0.004825</td>\n",
       "      <td>0.000000</td>\n",
       "    </tr>\n",
       "    <tr>\n",
       "      <th>108</th>\n",
       "      <td>0.045872</td>\n",
       "      <td>0.007994</td>\n",
       "      <td>0.000255</td>\n",
       "    </tr>\n",
       "    <tr>\n",
       "      <th>109</th>\n",
       "      <td>0.036697</td>\n",
       "      <td>0.004825</td>\n",
       "      <td>0.000000</td>\n",
       "    </tr>\n",
       "  </tbody>\n",
       "</table>\n",
       "<p>110 rows × 3 columns</p>\n",
       "</div>"
      ],
      "text/plain": [
       "       degree  eigenvector_centrality  betweenness_centrality\n",
       "0    0.238532                0.255767                0.036212\n",
       "1    0.146789                0.139163                0.040897\n",
       "2    0.018349                0.023463                0.000000\n",
       "3    0.045872                0.049392                0.005642\n",
       "4    0.321101                0.296814                0.212897\n",
       "..        ...                     ...                     ...\n",
       "105  0.036697                0.004825                0.000000\n",
       "106  0.009174                0.000181                0.000000\n",
       "107  0.036697                0.004825                0.000000\n",
       "108  0.045872                0.007994                0.000255\n",
       "109  0.036697                0.004825                0.000000\n",
       "\n",
       "[110 rows x 3 columns]"
      ]
     },
     "execution_count": 22,
     "metadata": {},
     "output_type": "execute_result"
    }
   ],
   "source": [
    "df"
   ]
  },
  {
   "cell_type": "code",
   "execution_count": 23,
   "metadata": {
    "ExecuteTime": {
     "end_time": "2020-10-31T18:44:15.177834Z",
     "start_time": "2020-10-31T18:44:15.042661Z"
    }
   },
   "outputs": [
    {
     "data": {
      "text/html": [
       "<div>\n",
       "<style scoped>\n",
       "    .dataframe tbody tr th:only-of-type {\n",
       "        vertical-align: middle;\n",
       "    }\n",
       "\n",
       "    .dataframe tbody tr th {\n",
       "        vertical-align: top;\n",
       "    }\n",
       "\n",
       "    .dataframe thead th {\n",
       "        text-align: right;\n",
       "    }\n",
       "</style>\n",
       "<table border=\"1\" class=\"dataframe\">\n",
       "  <thead>\n",
       "    <tr style=\"text-align: right;\">\n",
       "      <th></th>\n",
       "      <th>node_id</th>\n",
       "      <th>name</th>\n",
       "      <th>value</th>\n",
       "      <th>colour</th>\n",
       "      <th>degree</th>\n",
       "      <th>eigenvector_centrality</th>\n",
       "      <th>betweenness_centrality</th>\n",
       "    </tr>\n",
       "  </thead>\n",
       "  <tbody>\n",
       "    <tr>\n",
       "      <th>0</th>\n",
       "      <td>0</td>\n",
       "      <td>QUI-GON</td>\n",
       "      <td>61</td>\n",
       "      <td>#4f4fb1</td>\n",
       "      <td>0.238532</td>\n",
       "      <td>0.255767</td>\n",
       "      <td>0.036212</td>\n",
       "    </tr>\n",
       "    <tr>\n",
       "      <th>1</th>\n",
       "      <td>1</td>\n",
       "      <td>NUTE GUNRAY</td>\n",
       "      <td>24</td>\n",
       "      <td>#808080</td>\n",
       "      <td>0.146789</td>\n",
       "      <td>0.139163</td>\n",
       "      <td>0.040897</td>\n",
       "    </tr>\n",
       "    <tr>\n",
       "      <th>2</th>\n",
       "      <td>2</td>\n",
       "      <td>PK-4</td>\n",
       "      <td>3</td>\n",
       "      <td>#808080</td>\n",
       "      <td>0.018349</td>\n",
       "      <td>0.023463</td>\n",
       "      <td>0.000000</td>\n",
       "    </tr>\n",
       "    <tr>\n",
       "      <th>3</th>\n",
       "      <td>3</td>\n",
       "      <td>TC-14</td>\n",
       "      <td>4</td>\n",
       "      <td>#808080</td>\n",
       "      <td>0.045872</td>\n",
       "      <td>0.049392</td>\n",
       "      <td>0.005642</td>\n",
       "    </tr>\n",
       "    <tr>\n",
       "      <th>4</th>\n",
       "      <td>4</td>\n",
       "      <td>OBI-WAN</td>\n",
       "      <td>147</td>\n",
       "      <td>#48D1CC</td>\n",
       "      <td>0.321101</td>\n",
       "      <td>0.296814</td>\n",
       "      <td>0.212897</td>\n",
       "    </tr>\n",
       "    <tr>\n",
       "      <th>5</th>\n",
       "      <td>5</td>\n",
       "      <td>DOFINE</td>\n",
       "      <td>3</td>\n",
       "      <td>#808080</td>\n",
       "      <td>0.027523</td>\n",
       "      <td>0.013608</td>\n",
       "      <td>0.000142</td>\n",
       "    </tr>\n",
       "    <tr>\n",
       "      <th>6</th>\n",
       "      <td>6</td>\n",
       "      <td>RUNE</td>\n",
       "      <td>10</td>\n",
       "      <td>#808080</td>\n",
       "      <td>0.036697</td>\n",
       "      <td>0.027948</td>\n",
       "      <td>0.001696</td>\n",
       "    </tr>\n",
       "    <tr>\n",
       "      <th>7</th>\n",
       "      <td>7</td>\n",
       "      <td>TEY HOW</td>\n",
       "      <td>4</td>\n",
       "      <td>#808080</td>\n",
       "      <td>0.027523</td>\n",
       "      <td>0.012247</td>\n",
       "      <td>0.000085</td>\n",
       "    </tr>\n",
       "    <tr>\n",
       "      <th>8</th>\n",
       "      <td>8</td>\n",
       "      <td>EMPEROR</td>\n",
       "      <td>51</td>\n",
       "      <td>#191970</td>\n",
       "      <td>0.201835</td>\n",
       "      <td>0.231125</td>\n",
       "      <td>0.074333</td>\n",
       "    </tr>\n",
       "    <tr>\n",
       "      <th>9</th>\n",
       "      <td>9</td>\n",
       "      <td>CAPTAIN PANAKA</td>\n",
       "      <td>19</td>\n",
       "      <td>#808080</td>\n",
       "      <td>0.082569</td>\n",
       "      <td>0.131763</td>\n",
       "      <td>0.000313</td>\n",
       "    </tr>\n",
       "    <tr>\n",
       "      <th>10</th>\n",
       "      <td>10</td>\n",
       "      <td>SIO BIBBLE</td>\n",
       "      <td>8</td>\n",
       "      <td>#808080</td>\n",
       "      <td>0.073394</td>\n",
       "      <td>0.128447</td>\n",
       "      <td>0.000203</td>\n",
       "    </tr>\n",
       "    <tr>\n",
       "      <th>11</th>\n",
       "      <td>11</td>\n",
       "      <td>JAR JAR</td>\n",
       "      <td>41</td>\n",
       "      <td>#9a9a00</td>\n",
       "      <td>0.220183</td>\n",
       "      <td>0.223692</td>\n",
       "      <td>0.040328</td>\n",
       "    </tr>\n",
       "    <tr>\n",
       "      <th>12</th>\n",
       "      <td>12</td>\n",
       "      <td>TARPALS</td>\n",
       "      <td>3</td>\n",
       "      <td>#808080</td>\n",
       "      <td>0.009174</td>\n",
       "      <td>0.015160</td>\n",
       "      <td>0.000000</td>\n",
       "    </tr>\n",
       "    <tr>\n",
       "      <th>13</th>\n",
       "      <td>13</td>\n",
       "      <td>BOSS NASS</td>\n",
       "      <td>4</td>\n",
       "      <td>#808080</td>\n",
       "      <td>0.055046</td>\n",
       "      <td>0.103353</td>\n",
       "      <td>0.000000</td>\n",
       "    </tr>\n",
       "    <tr>\n",
       "      <th>14</th>\n",
       "      <td>14</td>\n",
       "      <td>PADME</td>\n",
       "      <td>74</td>\n",
       "      <td>#DDA0DD</td>\n",
       "      <td>0.302752</td>\n",
       "      <td>0.286727</td>\n",
       "      <td>0.069469</td>\n",
       "    </tr>\n",
       "    <tr>\n",
       "      <th>15</th>\n",
       "      <td>15</td>\n",
       "      <td>RIC OLIE</td>\n",
       "      <td>11</td>\n",
       "      <td>#808080</td>\n",
       "      <td>0.064220</td>\n",
       "      <td>0.088043</td>\n",
       "      <td>0.002889</td>\n",
       "    </tr>\n",
       "    <tr>\n",
       "      <th>16</th>\n",
       "      <td>16</td>\n",
       "      <td>WATTO</td>\n",
       "      <td>8</td>\n",
       "      <td>#808080</td>\n",
       "      <td>0.045872</td>\n",
       "      <td>0.083774</td>\n",
       "      <td>0.000000</td>\n",
       "    </tr>\n",
       "    <tr>\n",
       "      <th>17</th>\n",
       "      <td>17</td>\n",
       "      <td>ANAKIN</td>\n",
       "      <td>131</td>\n",
       "      <td>#ce3b59</td>\n",
       "      <td>0.376147</td>\n",
       "      <td>0.330282</td>\n",
       "      <td>0.162171</td>\n",
       "    </tr>\n",
       "    <tr>\n",
       "      <th>18</th>\n",
       "      <td>18</td>\n",
       "      <td>SEBULBA</td>\n",
       "      <td>3</td>\n",
       "      <td>#808080</td>\n",
       "      <td>0.055046</td>\n",
       "      <td>0.091309</td>\n",
       "      <td>0.000000</td>\n",
       "    </tr>\n",
       "    <tr>\n",
       "      <th>19</th>\n",
       "      <td>19</td>\n",
       "      <td>JIRA</td>\n",
       "      <td>3</td>\n",
       "      <td>#808080</td>\n",
       "      <td>0.027523</td>\n",
       "      <td>0.059148</td>\n",
       "      <td>0.000000</td>\n",
       "    </tr>\n",
       "    <tr>\n",
       "      <th>20</th>\n",
       "      <td>20</td>\n",
       "      <td>SHMI</td>\n",
       "      <td>11</td>\n",
       "      <td>#808080</td>\n",
       "      <td>0.073394</td>\n",
       "      <td>0.117103</td>\n",
       "      <td>0.000542</td>\n",
       "    </tr>\n",
       "    <tr>\n",
       "      <th>21</th>\n",
       "      <td>21</td>\n",
       "      <td>C-3PO</td>\n",
       "      <td>150</td>\n",
       "      <td>#FFD700</td>\n",
       "      <td>0.302752</td>\n",
       "      <td>0.253782</td>\n",
       "      <td>0.192681</td>\n",
       "    </tr>\n",
       "    <tr>\n",
       "      <th>22</th>\n",
       "      <td>22</td>\n",
       "      <td>DARTH MAUL</td>\n",
       "      <td>5</td>\n",
       "      <td>#808080</td>\n",
       "      <td>0.036697</td>\n",
       "      <td>0.029854</td>\n",
       "      <td>0.000057</td>\n",
       "    </tr>\n",
       "    <tr>\n",
       "      <th>23</th>\n",
       "      <td>23</td>\n",
       "      <td>KITSTER</td>\n",
       "      <td>4</td>\n",
       "      <td>#808080</td>\n",
       "      <td>0.073394</td>\n",
       "      <td>0.109585</td>\n",
       "      <td>0.001878</td>\n",
       "    </tr>\n",
       "    <tr>\n",
       "      <th>24</th>\n",
       "      <td>24</td>\n",
       "      <td>WALD</td>\n",
       "      <td>3</td>\n",
       "      <td>#808080</td>\n",
       "      <td>0.045872</td>\n",
       "      <td>0.065868</td>\n",
       "      <td>0.000262</td>\n",
       "    </tr>\n",
       "    <tr>\n",
       "      <th>25</th>\n",
       "      <td>25</td>\n",
       "      <td>FODE/BEED</td>\n",
       "      <td>11</td>\n",
       "      <td>#808080</td>\n",
       "      <td>0.027523</td>\n",
       "      <td>0.043656</td>\n",
       "      <td>0.000000</td>\n",
       "    </tr>\n",
       "    <tr>\n",
       "      <th>26</th>\n",
       "      <td>26</td>\n",
       "      <td>JABBA</td>\n",
       "      <td>7</td>\n",
       "      <td>#808080</td>\n",
       "      <td>0.110092</td>\n",
       "      <td>0.133758</td>\n",
       "      <td>0.026526</td>\n",
       "    </tr>\n",
       "    <tr>\n",
       "      <th>27</th>\n",
       "      <td>27</td>\n",
       "      <td>GREEDO</td>\n",
       "      <td>3</td>\n",
       "      <td>#808080</td>\n",
       "      <td>0.036697</td>\n",
       "      <td>0.052597</td>\n",
       "      <td>0.004935</td>\n",
       "    </tr>\n",
       "    <tr>\n",
       "      <th>28</th>\n",
       "      <td>28</td>\n",
       "      <td>VALORUM</td>\n",
       "      <td>3</td>\n",
       "      <td>#808080</td>\n",
       "      <td>0.036697</td>\n",
       "      <td>0.060624</td>\n",
       "      <td>0.000000</td>\n",
       "    </tr>\n",
       "    <tr>\n",
       "      <th>29</th>\n",
       "      <td>29</td>\n",
       "      <td>MACE WINDU</td>\n",
       "      <td>22</td>\n",
       "      <td>#808080</td>\n",
       "      <td>0.119266</td>\n",
       "      <td>0.167901</td>\n",
       "      <td>0.002642</td>\n",
       "    </tr>\n",
       "  </tbody>\n",
       "</table>\n",
       "</div>"
      ],
      "text/plain": [
       "    node_id            name  value   colour    degree  eigenvector_centrality  \\\n",
       "0         0         QUI-GON     61  #4f4fb1  0.238532                0.255767   \n",
       "1         1     NUTE GUNRAY     24  #808080  0.146789                0.139163   \n",
       "2         2            PK-4      3  #808080  0.018349                0.023463   \n",
       "3         3           TC-14      4  #808080  0.045872                0.049392   \n",
       "4         4         OBI-WAN    147  #48D1CC  0.321101                0.296814   \n",
       "5         5          DOFINE      3  #808080  0.027523                0.013608   \n",
       "6         6            RUNE     10  #808080  0.036697                0.027948   \n",
       "7         7         TEY HOW      4  #808080  0.027523                0.012247   \n",
       "8         8         EMPEROR     51  #191970  0.201835                0.231125   \n",
       "9         9  CAPTAIN PANAKA     19  #808080  0.082569                0.131763   \n",
       "10       10      SIO BIBBLE      8  #808080  0.073394                0.128447   \n",
       "11       11         JAR JAR     41  #9a9a00  0.220183                0.223692   \n",
       "12       12         TARPALS      3  #808080  0.009174                0.015160   \n",
       "13       13       BOSS NASS      4  #808080  0.055046                0.103353   \n",
       "14       14           PADME     74  #DDA0DD  0.302752                0.286727   \n",
       "15       15        RIC OLIE     11  #808080  0.064220                0.088043   \n",
       "16       16           WATTO      8  #808080  0.045872                0.083774   \n",
       "17       17          ANAKIN    131  #ce3b59  0.376147                0.330282   \n",
       "18       18         SEBULBA      3  #808080  0.055046                0.091309   \n",
       "19       19            JIRA      3  #808080  0.027523                0.059148   \n",
       "20       20            SHMI     11  #808080  0.073394                0.117103   \n",
       "21       21           C-3PO    150  #FFD700  0.302752                0.253782   \n",
       "22       22      DARTH MAUL      5  #808080  0.036697                0.029854   \n",
       "23       23         KITSTER      4  #808080  0.073394                0.109585   \n",
       "24       24            WALD      3  #808080  0.045872                0.065868   \n",
       "25       25       FODE/BEED     11  #808080  0.027523                0.043656   \n",
       "26       26           JABBA      7  #808080  0.110092                0.133758   \n",
       "27       27          GREEDO      3  #808080  0.036697                0.052597   \n",
       "28       28         VALORUM      3  #808080  0.036697                0.060624   \n",
       "29       29      MACE WINDU     22  #808080  0.119266                0.167901   \n",
       "\n",
       "    betweenness_centrality  \n",
       "0                 0.036212  \n",
       "1                 0.040897  \n",
       "2                 0.000000  \n",
       "3                 0.005642  \n",
       "4                 0.212897  \n",
       "5                 0.000142  \n",
       "6                 0.001696  \n",
       "7                 0.000085  \n",
       "8                 0.074333  \n",
       "9                 0.000313  \n",
       "10                0.000203  \n",
       "11                0.040328  \n",
       "12                0.000000  \n",
       "13                0.000000  \n",
       "14                0.069469  \n",
       "15                0.002889  \n",
       "16                0.000000  \n",
       "17                0.162171  \n",
       "18                0.000000  \n",
       "19                0.000000  \n",
       "20                0.000542  \n",
       "21                0.192681  \n",
       "22                0.000057  \n",
       "23                0.001878  \n",
       "24                0.000262  \n",
       "25                0.000000  \n",
       "26                0.026526  \n",
       "27                0.004935  \n",
       "28                0.000000  \n",
       "29                0.002642  "
      ]
     },
     "execution_count": 23,
     "metadata": {},
     "output_type": "execute_result"
    }
   ],
   "source": [
    "pd.merge(df_nodes, df, left_index = True, right_index = True).head(30)"
   ]
  },
  {
   "cell_type": "code",
   "execution_count": null,
   "metadata": {},
   "outputs": [],
   "source": []
  }
 ],
 "metadata": {
  "kernelspec": {
   "display_name": "Python [conda env:smm638mtp]",
   "language": "python",
   "name": "conda-env-smm638mtp-py"
  },
  "language_info": {
   "codemirror_mode": {
    "name": "ipython",
    "version": 3
   },
   "file_extension": ".py",
   "mimetype": "text/x-python",
   "name": "python",
   "nbconvert_exporter": "python",
   "pygments_lexer": "ipython3",
   "version": "3.8.6"
  },
  "latex_envs": {
   "LaTeX_envs_menu_present": true,
   "autoclose": false,
   "autocomplete": true,
   "bibliofile": "biblio.bib",
   "cite_by": "apalike",
   "current_citInitial": 1,
   "eqLabelWithNumbers": true,
   "eqNumInitial": 1,
   "hotkeys": {
    "equation": "Ctrl-E",
    "itemize": "Ctrl-I"
   },
   "labels_anchors": false,
   "latex_user_defs": false,
   "report_style_numbering": false,
   "user_envs_cfg": false
  },
  "toc": {
   "base_numbering": 1,
   "nav_menu": {},
   "number_sections": true,
   "sideBar": true,
   "skip_h1_title": false,
   "title_cell": "Table of Contents",
   "title_sidebar": "Contents",
   "toc_cell": false,
   "toc_position": {},
   "toc_section_display": true,
   "toc_window_display": false
  },
  "varInspector": {
   "cols": {
    "lenName": 16,
    "lenType": 16,
    "lenVar": 40
   },
   "kernels_config": {
    "python": {
     "delete_cmd_postfix": "",
     "delete_cmd_prefix": "del ",
     "library": "var_list.py",
     "varRefreshCmd": "print(var_dic_list())"
    },
    "r": {
     "delete_cmd_postfix": ") ",
     "delete_cmd_prefix": "rm(",
     "library": "var_list.r",
     "varRefreshCmd": "cat(var_dic_list()) "
    }
   },
   "types_to_exclude": [
    "module",
    "function",
    "builtin_function_or_method",
    "instance",
    "_Feature"
   ],
   "window_display": false
  }
 },
 "nbformat": 4,
 "nbformat_minor": 4
}
